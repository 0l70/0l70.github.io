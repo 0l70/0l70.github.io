{
 "cells": [
  {
   "cell_type": "markdown",
   "metadata": {},
   "source": [
    "# **나혼자만 PYTHON 레벨업 3화**\n",
    "\n",
    "> **Lv. 3**\n",
    ">> **이경민**"
   ]
  },
  {
   "cell_type": "markdown",
   "metadata": {},
   "source": [
    "## **조건문**\n",
    "> 불 자료형과 if 조건문\n",
    ">> bool -> True or False\n"
   ]
  },
  {
   "cell_type": "markdown",
   "metadata": {},
   "source": []
  },
  {
   "cell_type": "markdown",
   "metadata": {},
   "source": [
    "### 비교 연산자\n",
    "\n",
    "|연산자|설명|\n",
    "|:---:|:---:|\n",
    "|==|같다|\n",
    "|!=|다르다|\n",
    "|<|작다|\n",
    "|>|크다|\n",
    "|<=|작거나 같다|\n",
    "|>=|크거나 같다|"
   ]
  },
  {
   "cell_type": "markdown",
   "metadata": {},
   "source": [
    "|연산자|의미|설명|\n",
    "|:---:|:---:|:-----:|\n",
    "|not|아니다|불을 반대로 전환|\n",
    "|and|그리고|피연산자 두 개 다 참일때 True 출력, 그 외 False|\n",
    "|or|또는|피연산자 두 개 중에 하나만 참이라도 True 출력, 두 개가 모두 거짓일 때만 False|"
   ]
  },
  {
   "cell_type": "markdown",
   "metadata": {},
   "source": [
    "## **if 조건문**\n",
    "\n",
    "### 코드 실행 흐름 변경\n",
    "\n",
    "#### if 불 값이 나오는 표현식:\n",
    "#### 😆😆😆😆불 값이 참일 때 실행할 문장\n",
    "#### 😆😆😆😆불 값이 거짓일 때 실행할 문장\n",
    "\n",
    "😆😆😆😆:들여쓰기 4칸"
   ]
  },
  {
   "cell_type": "markdown",
   "metadata": {},
   "source": [
    "### 날짜 /시간 활용하기"
   ]
  },
  {
   "cell_type": "code",
   "execution_count": null,
   "metadata": {},
   "outputs": [
    {
     "name": "stdout",
     "output_type": "stream",
     "text": [
      "2023 년\n",
      "10 월\n",
      "29 일\n",
      "23 시\n",
      "41 분\n",
      "38 초\n"
     ]
    }
   ],
   "source": [
    "# 날짜/시간과 관련된 기능을 가져오기\n",
    "import datetime\n",
    "\n",
    "# 현재 날짜/시작을 구하기\n",
    "now=datetime.datetime.now()\n",
    "\n",
    "# 출력\n",
    "print(now.year,\"년\")\n",
    "print(now.month,\"월\")\n",
    "print(now.day,\"일\")\n",
    "print(now.hour,\"시\")\n",
    "print(now.minute,\"분\")\n",
    "print(now.second,\"초\")"
   ]
  },
  {
   "cell_type": "markdown",
   "metadata": {},
   "source": [
    "### 오전/오후 구분 프로그램"
   ]
  },
  {
   "cell_type": "code",
   "execution_count": 8,
   "metadata": {},
   "outputs": [
    {
     "name": "stdout",
     "output_type": "stream",
     "text": [
      "오후 13시다 시@봉뱅거~\n"
     ]
    }
   ],
   "source": [
    "import datetime\n",
    "\n",
    "now = datetime.datetime.now()\n",
    "\n",
    "if now.hour<12:\n",
    "    print(\"오전 {}시다 시@봉뱅거~\".format(now.hour))\n",
    "\n",
    "if now.hour>=12:\n",
    "    print(\"오후 {}시다 시@봉뱅거~\".format(now.hour))"
   ]
  },
  {
   "cell_type": "markdown",
   "metadata": {},
   "source": [
    "### 짝수 홀수 구분하기"
   ]
  },
  {
   "cell_type": "code",
   "execution_count": 4,
   "metadata": {},
   "outputs": [
    {
     "name": "stdout",
     "output_type": "stream",
     "text": [
      "홀수\n"
     ]
    }
   ],
   "source": [
    "number=input(\"정수 입력>\")\n",
    "\n",
    "last=number[-1]\n",
    "\n",
    "last_number=int(last)\n",
    "\n",
    "if last_number == 0 \\\n",
    "    or last_number == 2 \\\n",
    "    or last_number == 4 \\\n",
    "    or last_number == 6 \\\n",
    "    or last_number == 8 :\n",
    "    print(\"짝수\")\n",
    "\n",
    "\n",
    "if last_number == 1 \\\n",
    "    or last_number == 3 \\\n",
    "    or last_number == 5 \\\n",
    "    or last_number == 7 \\\n",
    "    or last_number == 9 :\n",
    "    print(\"홀수\")"
   ]
  },
  {
   "cell_type": "code",
   "execution_count": 5,
   "metadata": {},
   "outputs": [
    {
     "name": "stdout",
     "output_type": "stream",
     "text": [
      "홀수\n"
     ]
    }
   ],
   "source": [
    "number = input(\"정수 입력> \")\n",
    "number = int(number)\n",
    "\n",
    "if number % 2 == 0:\n",
    "    print(\"짝수\")\n",
    "\n",
    "if number % 2 == 1:\n",
    "    print(\"홀수\")"
   ]
  },
  {
   "cell_type": "markdown",
   "metadata": {},
   "source": [
    "## if~else와 elif 구문\n"
   ]
  },
  {
   "cell_type": "markdown",
   "metadata": {},
   "source": [
    "\n",
    "## **else 조건문의 활용**\n",
    "\n",
    "### if\n",
    "#### 😆😆😆😆조건이 참일 때 실행할 문장\n",
    "### elif\n",
    "#### 😆😆😆😆조건이 거짓일 때 실행할 문장\n",
    "\n",
    "## elif 구문\n",
    "\n",
    "#### if 조건 A:\n",
    "#### 😆😆😆😆조건 A가 참일 때 실행할 문장\n",
    "#### elif 조건 B:\n",
    "#### 😆😆😆😆조건 B가 참일 때 실행할 문장\n",
    "#### elif 조건 C:\n",
    "#### 😆😆😆😆조건 C가 참일 때 실행할 문장\n",
    "#### ...\n",
    "#### else:\n",
    "#### 😆😆😆😆모든 조건이 거짓일 때\n",
    "\n",
    "#### 😆😆😆😆은 들여쓰기 4칸"
   ]
  },
  {
   "cell_type": "code",
   "execution_count": 6,
   "metadata": {},
   "outputs": [
    {
     "name": "stdout",
     "output_type": "stream",
     "text": [
      "현재는 겨울이다 씨@봉방꺼~\n"
     ]
    }
   ],
   "source": [
    "import datetime\n",
    "\n",
    "now = datetime.datetime.now()\n",
    "month = now.month\n",
    "\n",
    "if 3<= month <=5:\n",
    "    print(\"현재는 봄이다 씨@봉방꺼~\")\n",
    "elif 6 <= month <= 8:\n",
    "    print(\"현재는 여름이다 씨@봉방꺼~\")\n",
    "elif 9 <= month <= 11:\n",
    "    print(\"현재는 겨울이다 씨@봉방꺼~\")\n",
    "else:\n",
    "    print(\"현재는 겨울이다 씨@봉방꺼~\")"
   ]
  },
  {
   "cell_type": "code",
   "execution_count": 10,
   "metadata": {},
   "outputs": [
    {
     "name": "stdout",
     "output_type": "stream",
     "text": [
      "ㅋ 대학 성적 모르시나보네요 ㅋ\n"
     ]
    }
   ],
   "source": [
    "score=float(input(\"학점 입력>\"))\n",
    "\n",
    "if 4.0 <= score <= 4.5:\n",
    "    print(\"A\")\n",
    "elif 3.5 <= score <= 4.0:\n",
    "    print(\"B\")\n",
    "elif 3.0 <= score <=3.5:\n",
    "    print(\"C\")\n",
    "elif 2.5 <= score <= 3.0:\n",
    "    print(\"D\")\n",
    "elif score <= 2.5:\n",
    "    print(\"야호~! 짐승합격\")\n",
    "else:\n",
    "    print(\"ㅋ 대학 성적 모르시나보네요 ㅋ\")"
   ]
  }
 ],
 "metadata": {
  "kernelspec": {
   "display_name": "Python 3",
   "language": "python",
   "name": "python3"
  },
  "language_info": {
   "codemirror_mode": {
    "name": "ipython",
    "version": 3
   },
   "file_extension": ".py",
   "mimetype": "text/x-python",
   "name": "python",
   "nbconvert_exporter": "python",
   "pygments_lexer": "ipython3",
   "version": "3.11.4"
  },
  "orig_nbformat": 4
 },
 "nbformat": 4,
 "nbformat_minor": 2
}
