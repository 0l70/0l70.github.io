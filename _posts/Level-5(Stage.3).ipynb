{
 "cells": [
  {
   "cell_type": "markdown",
   "metadata": {},
   "source": [
    "# **나 혼자만 파이썬 레벨업 5-3화**\n",
    "\n",
    "> **Lv.5**\n",
    ">> **이경민**"
   ]
  },
  {
   "cell_type": "markdown",
   "metadata": {},
   "source": [
    "### **튜플(tuple)** : 함수와 함께 많이 사용되는 리스트와 비슷한 자료형으로, 한번 결정된 요소는 변경 불가\n",
    "##### (데이터, 데이터, 데이터, ...)\n",
    "### **람다(lambda)** : 매개변수로 함수를 전달하기 위해 함수 구문 작성하기 귀찮기에 1회용 함수를 만들어야 될 때 사용\n",
    "##### lambda 매개변수 : 리턴값"
   ]
  },
  {
   "cell_type": "markdown",
   "metadata": {},
   "source": [
    "### **튜플**\n",
    "\n",
    "> (데이터, 데이터, 데이터, ...)"
   ]
  },
  {
   "cell_type": "code",
   "execution_count": 1,
   "metadata": {},
   "outputs": [
    {
     "name": "stdout",
     "output_type": "stream",
     "text": [
      "10\n",
      "20\n",
      "30\n"
     ]
    }
   ],
   "source": [
    "tuple_test = (10, 20, 30)\n",
    "print(tuple_test[0])\n",
    "print(tuple_test[1])\n",
    "print(tuple_test[2])"
   ]
  },
  {
   "cell_type": "markdown",
   "metadata": {},
   "source": [
    "##### **요소를 하나만 가지는 튜플**\n",
    "\n",
    "- 요소를 하나만 가지는 리스트\n",
    "> [273]\n",
    "\n",
    "- 요소를 하나만 가지는 튜플\n",
    "> (273, )"
   ]
  },
  {
   "cell_type": "markdown",
   "metadata": {},
   "source": [
    "##### **괄호 없는 튜플**"
   ]
  },
  {
   "cell_type": "code",
   "execution_count": 2,
   "metadata": {},
   "outputs": [
    {
     "name": "stdout",
     "output_type": "stream",
     "text": [
      "a : 10\n",
      "b : 20\n",
      "c : 10\n",
      "d : 20\n"
     ]
    }
   ],
   "source": [
    "# 리스트와 튜플의 특이한 사용\n",
    "[a, b] = [10, 20]\n",
    "(c, d) = (10, 20)\n",
    "\n",
    "print('a :', a)\n",
    "print('b :', b)\n",
    "print('c :', c)\n",
    "print('d :', d)"
   ]
  },
  {
   "cell_type": "code",
   "execution_count": 3,
   "metadata": {},
   "outputs": [
    {
     "name": "stdout",
     "output_type": "stream",
     "text": [
      "# 괄호가 없는 튜플의 값과 자료형 출력\n",
      "tuple_test : (10, 20, 30, 40)\n",
      "type(tuple_test) : <class 'tuple'>\n",
      "\n",
      "# 괄호가 없는 튜플을 활용한 할당\n",
      "a : 10\n",
      "b : 20\n",
      "c : 30\n"
     ]
    }
   ],
   "source": [
    "# 괄호가 없는 튜플\n",
    "tuple_test = 10, 20, 30, 40\n",
    "print('# 괄호가 없는 튜플의 값과 자료형 출력')\n",
    "print('tuple_test :', tuple_test)\n",
    "print('type(tuple_test) :', type(tuple_test))\n",
    "print()\n",
    "\n",
    "# 괄호가 없는 튜플 활용\n",
    "a, b, c = 10, 20, 30\n",
    "print('# 괄호가 없는 튜플을 활용한 할당')\n",
    "print('a :', a)\n",
    "print('b :', b)\n",
    "print('c :', c)"
   ]
  },
  {
   "cell_type": "code",
   "execution_count": 4,
   "metadata": {},
   "outputs": [
    {
     "name": "stdout",
     "output_type": "stream",
     "text": [
      "# 교환 전 값\n",
      "a : 10\n",
      "b : 20\n",
      "\n",
      "# 교환 후 값\n",
      "a : 10\n",
      "b : 20\n"
     ]
    }
   ],
   "source": [
    "a, b = 10, 20\n",
    "print('# 교환 전 값')\n",
    "print('a :', a)\n",
    "print('b :', b)\n",
    "print()\n",
    "\n",
    "# 값 교환\n",
    "a, b = b, a\n",
    "a, b = 10, 20\n",
    "print('# 교환 후 값')\n",
    "print('a :', a)\n",
    "print('b :', b)"
   ]
  },
  {
   "cell_type": "markdown",
   "metadata": {},
   "source": [
    "##### 튜플은 함수의 리턴에 많이 사용한다."
   ]
  },
  {
   "cell_type": "code",
   "execution_count": 5,
   "metadata": {},
   "outputs": [
    {
     "name": "stdout",
     "output_type": "stream",
     "text": [
      "a : 10\n",
      "b : 20\n"
     ]
    }
   ],
   "source": [
    "# 함수 선언\n",
    "def test():\n",
    "    return (10, 20)\n",
    "\n",
    "a, b = test()\n",
    "\n",
    "# 출력\n",
    "print('a :', a)\n",
    "print('b :', b)"
   ]
  },
  {
   "cell_type": "markdown",
   "metadata": {},
   "source": [
    "### **람다**\n",
    "\n",
    "##### 함수라는 <u>기능</u>을 매개변수로 전달하는 코드를 많이 사용 <br>이런걸 효율적으로 작성하기 위해 람다 사용"
   ]
  },
  {
   "cell_type": "markdown",
   "metadata": {},
   "source": [
    "### **콜백 함수(callback function)**\n",
    "##### 함수의 매개변수에 사용하는 함수"
   ]
  },
  {
   "cell_type": "code",
   "execution_count": 6,
   "metadata": {},
   "outputs": [
    {
     "name": "stdout",
     "output_type": "stream",
     "text": [
      "안녕\n",
      "안녕\n",
      "안녕\n",
      "안녕\n",
      "안녕\n",
      "안녕\n",
      "안녕\n",
      "안녕\n",
      "안녕\n",
      "안녕\n"
     ]
    }
   ],
   "source": [
    "def call_10_times(func):\n",
    "    for i in range(10):\n",
    "        func()\n",
    "\n",
    "# 간단한 출력하는 함수\n",
    "def print_hello():\n",
    "    print('안녕')\n",
    "\n",
    "# 조합하기\n",
    "call_10_times(print_hello)"
   ]
  },
  {
   "cell_type": "markdown",
   "metadata": {},
   "source": [
    "### **filter( )와 map( )**\n",
    "\n",
    "#### 함수를 매개변수로 사용하는 대표적인 **표준 함수**\n",
    "\n",
    "### **map( )** - 리스트의 요소를 함수에 넣고 리턴된 값으로 새로운 리스트를 구성해 주는 함수\n",
    "> map(함수, 리스트)\n",
    "### **filter( )** - 리스트의 요소를 함수에 넣고 리턴된 값이 True인 것으로, 새로운 리스트 구성해주는 함수\n",
    "> filter(함수, 리스트)"
   ]
  },
  {
   "cell_type": "code",
   "execution_count": 7,
   "metadata": {},
   "outputs": [
    {
     "name": "stdout",
     "output_type": "stream",
     "text": [
      "# map() 함수의 실행 결과\n",
      "map(power, list_input_a) : <map object at 0x105c66140>\n",
      "map(power, list_input_a) : [1, 4, 9, 16, 25]\n",
      "\n",
      "# filter() 함수의 실행 결과\n",
      "filter(under_3, list_input_a) : <filter object at 0x105c65db0>\n",
      "filter(under_3, list_input_a) : [1, 2]\n"
     ]
    }
   ],
   "source": [
    "def power(item):\n",
    "    return item * item\n",
    "def under_3(item):\n",
    "    return item < 3\n",
    "\n",
    "list_input_a = [1, 2, 3, 4, 5]\n",
    "\n",
    "output_a = map(power, list_input_a)\n",
    "print('# map() 함수의 실행 결과')\n",
    "print('map(power, list_input_a) :', output_a)\n",
    "print('map(power, list_input_a) :', list(output_a))\n",
    "print()\n",
    "\n",
    "output_b = filter(under_3, list_input_a)\n",
    "print('# filter() 함수의 실행 결과')\n",
    "print('filter(under_3, list_input_a) :', output_b)\n",
    "print('filter(under_3, list_input_a) :', list(output_b))\n"
   ]
  },
  {
   "cell_type": "markdown",
   "metadata": {},
   "source": [
    "### **람다의 개념**\n",
    "\n",
    "> lambda 매개변수 : 리턴값"
   ]
  },
  {
   "cell_type": "code",
   "execution_count": 8,
   "metadata": {},
   "outputs": [
    {
     "name": "stdout",
     "output_type": "stream",
     "text": [
      "# map() 함수의 실행 결과\n",
      "map(power, list_input_a) <map object at 0x105c65810>\n",
      "map(power, list_input_a) [1, 4, 9, 16, 25]\n",
      "\n",
      "# filter() 함수의 실행 결과\n",
      "filter(under_3, list_input_a): <filter object at 0x105c66140>\n",
      "filter(under_3, list_input_a): [1, 2]\n"
     ]
    }
   ],
   "source": [
    "power = lambda x : x * x\n",
    "under_3 = lambda x : x < 3\n",
    "\n",
    "list_input_a = [1, 2, 3, 4, 5]\n",
    "\n",
    "# map()\n",
    "output_a = map(power, list_input_a)\n",
    "print('# map() 함수의 실행 결과')\n",
    "print('map(power, list_input_a)', output_a)\n",
    "print('map(power, list_input_a)', list(output_a))\n",
    "print()\n",
    "\n",
    "# filter()\n",
    "output_b = filter(under_3, list_input_a)\n",
    "print('# filter() 함수의 실행 결과')\n",
    "print('filter(under_3, list_input_a):', output_b)\n",
    "print('filter(under_3, list_input_a):', list(output_b))\n"
   ]
  },
  {
   "cell_type": "markdown",
   "metadata": {},
   "source": [
    "### **파일 처리**\n",
    "\n",
    "##### 텍스트 파일\n",
    "##### 바이너리 파일"
   ]
  },
  {
   "cell_type": "markdown",
   "metadata": {},
   "source": [
    "### **텍스트 파일**\n",
    "##### 파일 열기\n",
    "> 파일 객체 = open(문자열 : 파일 경로, 문자열 : 읽기 모드)\n",
    "##### 파일 읽기 또는 쓰기\n",
    "> 파일 객체. close()"
   ]
  },
  {
   "cell_type": "markdown",
   "metadata": {},
   "source": [
    "|모드|설명|\n",
    "|:---:|:---:|\n",
    "|w|write 모드(새로 쓰기 모드)|\n",
    "|a|append 모드(뒤에 이어서 쓰기 모드)|\n",
    "|r|read 모드(읽기 모드)|"
   ]
  },
  {
   "cell_type": "code",
   "execution_count": 9,
   "metadata": {},
   "outputs": [],
   "source": [
    "file = open('basic.txt', 'w')\n",
    "\n",
    "file.write('Hello...?')\n",
    "\n",
    "file.close()"
   ]
  },
  {
   "cell_type": "markdown",
   "metadata": {},
   "source": [
    "### **with 키워드**\n",
    "\n",
    "> with open(문자열 : 파일 경로, 문자열 : 모드) as 파일 객체:<br>&#160;&#160;&#160;&#160;&#160;&#160;&#160;&#160;문자"
   ]
  },
  {
   "cell_type": "code",
   "execution_count": 10,
   "metadata": {},
   "outputs": [],
   "source": [
    "with open('basic.txt', 'w') as file:\n",
    "    file.write('Hello...!')"
   ]
  },
  {
   "cell_type": "markdown",
   "metadata": {},
   "source": [
    "### **텍스트 읽기**\n",
    "\n",
    "> 파일 객체.read()"
   ]
  },
  {
   "cell_type": "markdown",
   "metadata": {},
   "source": [
    "### 텍스트 한 줄씩 읽기\n",
    "\n",
    "##### CSV, XML, JSON 등\n",
    "\n",
    "##### CSV(Comma Separated Values) - 쉼표로 구분된 값\n",
    "\n",
    "##### 데이터를 한 줄씩 읽어 들일 때 for 반복문을 사용\n",
    "\n",
    "> for 한 줄을 나타내는 문자열 in 파일 객체:<br>&#160;&#160;&#160;&#160;&#160;&#160;&#160;처리"
   ]
  },
  {
   "cell_type": "markdown",
   "metadata": {},
   "source": [
    "### **제너레이터(Generator)**\n",
    "##### 이터레이터를 직접 만들 때 사용하는 코드\n",
    "##### 함수 내부에 yield 키워드를 사용하면 해당 함수는 제너레이터 함수가 된다.\n",
    "##### 일반 함수와 달리 함수를 호출해도 함수 내부의 코드가 실행되지 않는다."
   ]
  },
  {
   "cell_type": "code",
   "execution_count": 11,
   "metadata": {},
   "outputs": [
    {
     "name": "stdout",
     "output_type": "stream",
     "text": [
      "A 지점 통과\n",
      "B 지점 통과\n",
      "<generator object test at 0x105c84400>\n"
     ]
    }
   ],
   "source": [
    "def test():\n",
    "    print('함수 호출')\n",
    "    yield 'test'\n",
    "\n",
    "print('A 지점 통과')\n",
    "test()\n",
    "\n",
    "print('B 지점 통과')\n",
    "test()\n",
    "print(test())"
   ]
  },
  {
   "cell_type": "markdown",
   "metadata": {},
   "source": [
    "### 제너레이터 객체는 next( ) 함수를 사용해 함수 내부 코드 실행"
   ]
  },
  {
   "cell_type": "code",
   "execution_count": 12,
   "metadata": {},
   "outputs": [
    {
     "name": "stdout",
     "output_type": "stream",
     "text": [
      "D 지점 통과\n",
      "A 지점 통과\n",
      "1\n",
      "E 지점 통과\n",
      "B 지점 통과\n",
      "2\n",
      "F 지점 통과\n",
      "C 지점 통과\n"
     ]
    },
    {
     "ename": "StopIteration",
     "evalue": "",
     "output_type": "error",
     "traceback": [
      "\u001b[0;31m---------------------------------------------------------------------------\u001b[0m",
      "\u001b[0;31mStopIteration\u001b[0m                             Traceback (most recent call last)",
      "Cell \u001b[0;32mIn[12], line 17\u001b[0m\n\u001b[1;32m     15\u001b[0m \u001b[39mprint\u001b[39m(b)\n\u001b[1;32m     16\u001b[0m \u001b[39mprint\u001b[39m(\u001b[39m'\u001b[39m\u001b[39mF 지점 통과\u001b[39m\u001b[39m'\u001b[39m)\n\u001b[0;32m---> 17\u001b[0m c \u001b[39m=\u001b[39m \u001b[39mnext\u001b[39;49m(output)    \u001b[39m# Stoplteration 예외 발생\u001b[39;00m\n\u001b[1;32m     18\u001b[0m \u001b[39mprint\u001b[39m(c)\n\u001b[1;32m     19\u001b[0m \u001b[39m# 한 번 더 실행\u001b[39;00m\n",
      "\u001b[0;31mStopIteration\u001b[0m: "
     ]
    }
   ],
   "source": [
    "def test():\n",
    "    print('A 지점 통과')\n",
    "    yield 1\n",
    "    print('B 지점 통과')\n",
    "    yield 2\n",
    "    print('C 지점 통과')\n",
    "# 함수 호출\n",
    "output = test()\n",
    "# next() 함수를 호출\n",
    "print('D 지점 통과')\n",
    "a = next(output)\n",
    "print(a)\n",
    "print('E 지점 통과')\n",
    "b = next(output)\n",
    "print(b)\n",
    "print('F 지점 통과')\n",
    "c = next(output)    # Stoplteration 예외 발생\n",
    "print(c)\n",
    "# 한 번 더 실행\n",
    "next(output)"
   ]
  },
  {
   "cell_type": "markdown",
   "metadata": {},
   "source": [
    "### 리스트 함수의 key 키워드 매개변수\n",
    "\n",
    "##### min() 함수와 max() 함수로 딕셔너리의 키 활용"
   ]
  },
  {
   "cell_type": "code",
   "execution_count": null,
   "metadata": {},
   "outputs": [
    {
     "name": "stdout",
     "output_type": "stream",
     "text": [
      "# 파이썬만 했더니 너무 강함\n",
      "{'이름': '이경민', '레벨': 5}\n",
      "\n",
      "# 슬라임 그 자체\n",
      "{'이름': '이아현', '레벨': 3}\n"
     ]
    }
   ],
   "source": [
    "#키워드 매개변수에 함수 전달하기\n",
    "User = [{\n",
    "    '이름' : '이경민',\n",
    "    '레벨' : 5\n",
    "}, {\n",
    "    '이름' : '김현재',\n",
    "    '레벨' : 4\n",
    "}, {\n",
    "    '이름' : '이아현',\n",
    "    '레벨' : 3\n",
    "}]\n",
    "\n",
    "def 레벨추출함수(level):\n",
    "    return level['레벨']\n",
    "\n",
    "print('# 파이썬만 했더니 너무 강함')\n",
    "print(max(User, key = 레벨추출함수))\n",
    "print()\n",
    "\n",
    "print('# 슬라임 그 자체')\n",
    "print(min(User, key = 레벨추출함수))"
   ]
  },
  {
   "cell_type": "code",
   "execution_count": null,
   "metadata": {},
   "outputs": [
    {
     "name": "stdout",
     "output_type": "stream",
     "text": [
      "# 파이썬만 했더니 너무 강함\n",
      "{'이름': '이경민', '레벨': 5}\n",
      "\n",
      "# 슬라임 그 자체\n",
      "{'이름': '이아현', '레벨': 3}\n"
     ]
    }
   ],
   "source": [
    "# 콜백 함수를 람다로 바꾸기\n",
    "User = [{\n",
    "    '이름' : '이경민',\n",
    "    '레벨' : 5\n",
    "}, {\n",
    "    '이름' : '김현재',\n",
    "    '레벨' : 4\n",
    "}, {\n",
    "    '이름' : '이아현',\n",
    "    '레벨' : 3\n",
    "}]\n",
    "\n",
    "print('# 파이썬만 했더니 너무 강함')\n",
    "print(max(User, key = lambda level: level['레벨']))\n",
    "print()\n",
    "\n",
    "print('# 슬라임 그 자체')\n",
    "print(min(User, key = lambda level: level['레벨']))"
   ]
  },
  {
   "cell_type": "markdown",
   "metadata": {},
   "source": [
    "### **스택, 힙**\n",
    "\n",
    "##### 파이썬 기본 자료형 숫자, 문자열, 불\n",
    "##### 나머지 자료형들은 모두 **객체 자료형**"
   ]
  },
  {
   "cell_type": "markdown",
   "metadata": {},
   "source": [
    "### **기본 자료형** - 가볍고 정형화된 자료형, 저장 후 스택으로 정리\n",
    "##### 스택 : 저장할 때 작은 상자에 쌓아서 모아둠\n",
    "\n",
    "### **객체 자료형** - 무겁고 크기가 정형화되어 있지 않음, 창고에 대충 넣어둠\n",
    "##### 힙 : 객체 자료형들이 저장된 창고\n",
    "##### 리스트와 딕셔너리 같이 큰 자료형은 힙이라는 창고에 넣어두고 창고의 어떤 위치에 저장했는지를 스택에 기록\n",
    "##### 저장 위치 : 주소 또는 레퍼런스"
   ]
  },
  {
   "cell_type": "markdown",
   "metadata": {},
   "source": []
  }
 ],
 "metadata": {
  "kernelspec": {
   "display_name": "Python 3",
   "language": "python",
   "name": "python3"
  },
  "language_info": {
   "codemirror_mode": {
    "name": "ipython",
    "version": 3
   },
   "file_extension": ".py",
   "mimetype": "text/x-python",
   "name": "python",
   "nbconvert_exporter": "python",
   "pygments_lexer": "ipython3",
   "version": "3.11.4"
  },
  "orig_nbformat": 4
 },
 "nbformat": 4,
 "nbformat_minor": 2
}
