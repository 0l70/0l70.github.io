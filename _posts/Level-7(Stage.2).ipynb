{
 "cells": [
  {
   "cell_type": "markdown",
   "metadata": {},
   "source": [
    "# **나 혼자만 파이썬 레벨업 7-2화**\n",
    "\n",
    "> **Lv.7**\n",
    ">> **이경민**"
   ]
  },
  {
   "cell_type": "markdown",
   "metadata": {},
   "source": [
    "### **외부 모듈**\n",
    "##### 외부 모듈 설치하기\n",
    "\n",
    "> pip install 모듈 이름\n",
    "\n",
    "- 터미널에서 실행"
   ]
  },
  {
   "cell_type": "markdown",
   "metadata": {},
   "source": [
    "### 일단 numpy 깔았으니 생략 ㅋ\n",
    "### 다른 것들도 필요할 때마다 설치\n",
    "### 설치할줄 알기에 생략"
   ]
  },
  {
   "cell_type": "markdown",
   "metadata": {},
   "source": [
    "### **라이브러리**와 **프레임워크**\n",
    "##### 최근엔 큰 구분없이 사용하지만 확실히 구분하자면 **제어 역전** 여부에 따라 다르다\n",
    "\n",
    "|구분|설명|\n",
    "|:---:|:---:|\n",
    "|**라이브러리(library)**|정상적인 제어를 하는 모듈|\n",
    "|**프레임워크(framework)**|제어 역전이 발생하는 모듈|\n",
    "\n",
    "\n"
   ]
  },
  {
   "cell_type": "markdown",
   "metadata": {},
   "source": [
    "### **라이브러리**\n",
    "##### 모듈 내부의 기능을 '개발자'가 직접 호출\n",
    "### **프레임워크**\n",
    "##### 모듈이 개발자가 작성한 코드를 실행하는 형태의 모듈\n",
    "### **제어 역전** - 제어가 역전 되어 있다\n",
    "##### 개발자가 모듈의 함수를 호출하는 것이 일반적인 제어 흐름"
   ]
  },
  {
   "cell_type": "markdown",
   "metadata": {},
   "source": [
    "### 함수 데코레이터\n",
    "##### @로 시작하는 구문"
   ]
  },
  {
   "cell_type": "code",
   "execution_count": 2,
   "metadata": {},
   "outputs": [
    {
     "name": "stdout",
     "output_type": "stream",
     "text": [
      "인사 시작\n",
      "hello\n",
      "인사 종료\n"
     ]
    }
   ],
   "source": [
    "# 함수 데코레이터를 생성\n",
    "def test(function):\n",
    "    def wrapper():\n",
    "        print('인사 시작')\n",
    "        function()\n",
    "        print('인사 종료')\n",
    "    return wrapper\n",
    "\n",
    "# 데코레이터를 붙여 함수 만들기\n",
    "@test\n",
    "def hello():\n",
    "    print('hello')\n",
    "\n",
    "# 함수 호출\n",
    "hello()"
   ]
  },
  {
   "cell_type": "markdown",
   "metadata": {},
   "source": [
    "### test() 함수에서 wrapper() 함수를 리턴하므로, 최종적으로 hello에 함수가 들어가 hello() 형태로 호출 가능"
   ]
  }
 ],
 "metadata": {
  "kernelspec": {
   "display_name": "Python 3",
   "language": "python",
   "name": "python3"
  },
  "language_info": {
   "codemirror_mode": {
    "name": "ipython",
    "version": 3
   },
   "file_extension": ".py",
   "mimetype": "text/x-python",
   "name": "python",
   "nbconvert_exporter": "python",
   "pygments_lexer": "ipython3",
   "version": "3.11.4"
  }
 },
 "nbformat": 4,
 "nbformat_minor": 2
}
