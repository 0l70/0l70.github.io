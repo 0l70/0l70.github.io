{
 "cells": [
  {
   "cell_type": "markdown",
   "metadata": {},
   "source": [
    "# **나 혼자만 파이썬 레벨업 7-3화**\n",
    "\n",
    "> **Lv.7**\n",
    ">> **이경민**"
   ]
  },
  {
   "cell_type": "markdown",
   "metadata": {},
   "source": [
    "## 모듈 만들기"
   ]
  },
  {
   "cell_type": "code",
   "execution_count": 1,
   "metadata": {},
   "outputs": [],
   "source": [
    "# test_module.py 파일\n",
    "PI = 3.141592\n",
    "\n",
    "def number_input():\n",
    "    output = input('숫자 입력 >')\n",
    "    return float(output)\n",
    "\n",
    "def get_circumference(radius):\n",
    "    return 2 * PI * radius\n",
    "\n",
    "def get_circle_area(radius):\n",
    "    return PI * radius * radius"
   ]
  },
  {
   "cell_type": "code",
   "execution_count": 4,
   "metadata": {},
   "outputs": [
    {
     "name": "stdout",
     "output_type": "stream",
     "text": [
      "62.83184\n",
      "314.1592\n"
     ]
    }
   ],
   "source": [
    "# 저장된 test_module.py 작동됨\n",
    "import test_module as test\n",
    "\n",
    "radius = test.number_input()\n",
    "print(test.get_circumference(radius))\n",
    "print(test.get_circle_area(radius))"
   ]
  },
  {
   "cell_type": "markdown",
   "metadata": {},
   "source": [
    "### **_ _ name_ _ == \"_ _ main _ _**\""
   ]
  },
  {
   "cell_type": "markdown",
   "metadata": {},
   "source": [
    "##### **_ _ name _ _**\n",
    "##### **엔트리 포인트(또는 메인)**: 프로그램의 진입점"
   ]
  },
  {
   "cell_type": "code",
   "execution_count": 5,
   "metadata": {},
   "outputs": [
    {
     "data": {
      "text/plain": [
       "'__main__'"
      ]
     },
     "execution_count": 5,
     "metadata": {},
     "output_type": "execute_result"
    }
   ],
   "source": [
    "# 엔트리 포인트(또는 메인) 내부에서의 __name__은 '__main__'이다\n",
    "__name__\n",
    "'__main__'"
   ]
  },
  {
   "cell_type": "markdown",
   "metadata": {},
   "source": [
    "##### **모듈의 _ _ name _ _**\n",
    "##### 엔트리 포인트가 아니지만 엔트리 포인트 파일 내에서<br>import 되었기 때문에 모듈 내 코드가 실행된다\n",
    "##### 모듈 내부에서 _ _ name _ _을 출력하면 모듈의 이름을 나타낸다."
   ]
  },
  {
   "cell_type": "code",
   "execution_count": 6,
   "metadata": {},
   "outputs": [
    {
     "name": "stdout",
     "output_type": "stream",
     "text": [
      "# 메인의 __name__ 출력\n",
      "__main__\n",
      "\n"
     ]
    }
   ],
   "source": [
    "#main.py 파일\n",
    "import test_module\n",
    "print('# 메인의 __name__ 출력')\n",
    "print(__name__)\n",
    "print()"
   ]
  },
  {
   "cell_type": "code",
   "execution_count": 7,
   "metadata": {},
   "outputs": [
    {
     "name": "stdout",
     "output_type": "stream",
     "text": [
      "# 모듈의 __name__ 출력\n",
      "__main__\n",
      "\n"
     ]
    }
   ],
   "source": [
    "#test_module.py 파일\n",
    "print('# 모듈의 __name__ 출력')\n",
    "print(__name__)\n",
    "print()"
   ]
  },
  {
   "cell_type": "code",
   "execution_count": 8,
   "metadata": {},
   "outputs": [
    {
     "name": "stdout",
     "output_type": "stream",
     "text": [
      "get_circumference(10) : 62.83184\n",
      "get_circle_area(10) : 314.1592\n"
     ]
    }
   ],
   "source": [
    "PI = 3.141592\n",
    "\n",
    "def number_input():\n",
    "    output = input('숫자 입력 >')\n",
    "    return float(output)\n",
    "\n",
    "def get_circumference(radius):\n",
    "    return 2 * PI * radius\n",
    "\n",
    "def get_circle_area(radius):\n",
    "    return PI * radius * radius\n",
    "\n",
    "print('get_circumference(10) :', get_circumference(10))\n",
    "print('get_circle_area(10) :', get_circle_area(10))\n"
   ]
  },
  {
   "cell_type": "markdown",
   "metadata": {},
   "source": [
    "### **패키지** : 모듈이 모여서 구조를 이루는 것\n",
    "##### **모듈** : import로 가져오는 모든 것\n",
    "##### pip(Python Package Index) : 패키지 관리 시스템"
   ]
  },
  {
   "cell_type": "markdown",
   "metadata": {},
   "source": [
    "#### 패키지 만들기"
   ]
  },
  {
   "cell_type": "code",
   "execution_count": 10,
   "metadata": {},
   "outputs": [],
   "source": [
    "# ./test_package/module_a.py의 내용\n",
    "variable_a = 'a 모듈의 변수'"
   ]
  },
  {
   "cell_type": "code",
   "execution_count": 9,
   "metadata": {},
   "outputs": [],
   "source": [
    "# ./test_package/module_b.py의 내용\n",
    "variable_b = 'b 모듈의 변수'"
   ]
  },
  {
   "cell_type": "code",
   "execution_count": 12,
   "metadata": {},
   "outputs": [
    {
     "name": "stdout",
     "output_type": "stream",
     "text": [
      "a 모듈의 변수\n",
      "b 모듈의 변수\n"
     ]
    }
   ],
   "source": [
    "# 패키지 내부의 모듈을 읽어드리기\n",
    "import test_package.module_a as a\n",
    "import test_package.module_b as b\n",
    "\n",
    "print(a.variable_a)\n",
    "print(b.variable_b)\n"
   ]
  },
  {
   "cell_type": "markdown",
   "metadata": {},
   "source": [
    "### **_ _ init _ _.py**\n",
    "##### 패키지를 읽을 때 어떤 처리를 수행해야 하거나 <br>패키지 내부의 모듈들을 한꺼번에 가져오고 싶을 때 \n",
    "##### 폴더 내부에 _ _ init _ _.py 만들어 사용\n",
    "\n",
    "##### main_1.py 파일로 패키지를 읽어 들일 때 _ _ init _ _.py를 가장 먼저 실행"
   ]
  },
  {
   "cell_type": "markdown",
   "metadata": {},
   "source": [
    "##### main_1.py"
   ]
  },
  {
   "cell_type": "markdown",
   "metadata": {},
   "source": [
    "```python\n",
    "# 패키지 내부의 모듈을 모두 읽어 들이기\n",
    "from test_package import *\n",
    "\n",
    "#모듈 내부의 변수를 출력\n",
    "print(module_a.variable_a)\n",
    "print(module_b.variable_b)\n",
    "```\n",
    "***\n",
    "```\n",
    ">> test_package를 읽어 들였습니다.\n",
    "a 모듈의 변수\n",
    "b 모듈의 변수\n",
    "```"
   ]
  },
  {
   "cell_type": "markdown",
   "metadata": {},
   "source": [
    "##### 텍스트 데이터와 바이너리 데이터 비교\n",
    "<table style=\"text-align: center;\">\n",
    "  <tr>\n",
    "    <th>비교 항목</th>\n",
    "    <th>텍스트 데이터</th>\n",
    "    <th>바이너리 데이터</th>\n",
    "  </tr>\n",
    "  <tr>\n",
    "    <td>구분 방법</td>\n",
    "    <td>텍스트 에디터로 열었을 때 읽을 수 있다.</td>\n",
    "    <td>텍스트 에디터로 열어도 읽을 수 없다.</td>\n",
    "  </tr>\n",
    "  <tr>\n",
    "    <td>장점</td>\n",
    "    <td>사람이 쉽게 읽을 수 있다.<br>텍스트 에디터로 쉽게 편집할 수 있다.</td>\n",
    "    <td>용량이 적다.</td>\n",
    "  </tr>\n",
    "  <tr>\n",
    "    <td>단점</td>\n",
    "    <td>용량이 크다.</td>\n",
    "    <td>사람이 쉽게 읽을 수 있다.<br>일반적으로는 텍스트 에디터로 편집할 수 없다.</td>\n",
    "  </tr>\n",
    "</table>"
   ]
  },
  {
   "cell_type": "markdown",
   "metadata": {},
   "source": [
    "## **<u>텍스트 데이터</u>** 와 **<u>바이너리 데이터</u>**"
   ]
  },
  {
   "cell_type": "markdown",
   "metadata": {},
   "source": [
    "## **<u>인코딩과 디코딩</u>**\n",
    "\n",
    "### **인코딩(encoding)**\n",
    "##### 텍스트 데이터를 맞춰서 우리가 읽기 쉬운 글자로 보기 위해 변환\n",
    "##### 바이너리 데이터를 읽어서 이미지로 보여주기 위해 변환\n",
    "### **디코딩(decoding)**\n",
    "##### 인코딩된 데이터를 반대로 돌리는 것"
   ]
  },
  {
   "cell_type": "markdown",
   "metadata": {},
   "source": []
  }
 ],
 "metadata": {
  "kernelspec": {
   "display_name": "Python 3",
   "language": "python",
   "name": "python3"
  },
  "language_info": {
   "codemirror_mode": {
    "name": "ipython",
    "version": 3
   },
   "file_extension": ".py",
   "mimetype": "text/x-python",
   "name": "python",
   "nbconvert_exporter": "python",
   "pygments_lexer": "ipython3",
   "version": "3.11.4"
  }
 },
 "nbformat": 4,
 "nbformat_minor": 2
}
