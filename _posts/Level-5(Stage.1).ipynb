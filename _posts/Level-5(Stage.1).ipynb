{
 "cells": [
  {
   "cell_type": "markdown",
   "metadata": {},
   "source": [
    "# **나 혼자만 파이썬 레벨업 5-1화**\n",
    "\n",
    "> **Lv.5**\n",
    ">> **이경민**"
   ]
  },
  {
   "cell_type": "markdown",
   "metadata": {},
   "source": [
    "### **함수 만들기**\n",
    "\n",
    "\n",
    "##### **함수 호출** : 함수를 사용하는 것\n",
    "\n",
    "##### **매개변수** : 함수 호출할 때 괄호 내부에 넣는 여러 가지 자료\n",
    "\n",
    "##### **리턴값** : 마지막으로 함수를 호출해서 최종적으로 나오는 결과"
   ]
  },
  {
   "cell_type": "markdown",
   "metadata": {},
   "source": [
    "### 함수 : 코드의 집합\n",
    "\n",
    "##### 함수의 기본 형태\n",
    "> def 함수 이름():<br>&#160;&#160;&#160;&#160;&#160;&#160;&#160;문장"
   ]
  },
  {
   "cell_type": "code",
   "execution_count": 2,
   "metadata": {},
   "outputs": [
    {
     "name": "stdout",
     "output_type": "stream",
     "text": [
      "hello\n",
      "hello\n",
      "hello\n"
     ]
    }
   ],
   "source": [
    "# 기본 함수\n",
    "def print_3_times():\n",
    "    print('hello')\n",
    "    print('hello')\n",
    "    print('hello')\n",
    "\n",
    "print_3_times()"
   ]
  },
  {
   "cell_type": "markdown",
   "metadata": {},
   "source": [
    "### **매개변수**\n",
    "\n",
    "- 식별자를 입력해서 만듦\n",
    "\n",
    "> def 함수 이름(매개변수, 매개변수, ...):<br>&#160;&#160;&#160;&#160;&#160;&#160;&#160;문장"
   ]
  },
  {
   "cell_type": "code",
   "execution_count": 4,
   "metadata": {},
   "outputs": [
    {
     "name": "stdout",
     "output_type": "stream",
     "text": [
      "Hello\n",
      "Hello\n",
      "Hello\n",
      "Hello\n",
      "Hello\n"
     ]
    }
   ],
   "source": [
    "# 매개변수의 기본\n",
    "def print_n_times(value, n):\n",
    "    for i in range(n):\n",
    "        print(value)\n",
    "\n",
    "print_n_times('Hello',5)"
   ]
  },
  {
   "cell_type": "markdown",
   "metadata": {},
   "source": [
    "### **가변 매개변수**\n",
    "\n",
    "- 매개변수 개수가 변할수 있음\n",
    "\n",
    "> def 함수 이름(매개변수, 매개변수, ... , *가변 매개변수):<br>&#160;&#160;&#160;&#160;&#160;&#160;&#160;문장\n",
    "\n",
    "##### 가변 매개변수 제약\n",
    "- 가변 매개변수 뒤에는 일반 매개변수가 올 수 없다\n",
    "- 가변 매개변수는 하나만 사용 가능"
   ]
  },
  {
   "cell_type": "code",
   "execution_count": 6,
   "metadata": {},
   "outputs": [
    {
     "name": "stdout",
     "output_type": "stream",
     "text": [
      "I\n",
      "am\n",
      "신뢰에요\n",
      "\n",
      "I\n",
      "am\n",
      "신뢰에요\n",
      "\n",
      "I\n",
      "am\n",
      "신뢰에요\n",
      "\n"
     ]
    }
   ],
   "source": [
    "def print_n_times(n, *values):\n",
    "    # n번 반복\n",
    "    for i in range(n):\n",
    "        # values는 리스트처럼 활용\n",
    "        for value in values:\n",
    "            print(value)\n",
    "        # 줄바꿈\n",
    "        print()\n",
    "\n",
    "# 함수를 호출\n",
    "print_n_times(3, 'I','am','신뢰에요')"
   ]
  },
  {
   "cell_type": "markdown",
   "metadata": {},
   "source": [
    "### **기본 매개변수**\n",
    "\n",
    "> print(value, ... , sep = ' ', end = '\\n', file = sys.stdout, flush = False)<br>\n",
    "\n",
    "> print(가변 매개변수, 매개변수 = 값, 매개변수 = 값, 매개변수 = 값)\n",
    "\n",
    "##### 여기서 value는 가변 매개변수\n",
    "\n",
    "##### '매개변수 = 값'은 기본 매개변수\n",
    "\n",
    "- 기본 매개변수 뒤에는 일반 매개변수가 올 수 없다."
   ]
  },
  {
   "cell_type": "code",
   "execution_count": 7,
   "metadata": {},
   "outputs": [
    {
     "name": "stdout",
     "output_type": "stream",
     "text": [
      "WASSUP\n",
      "WASSUP\n"
     ]
    }
   ],
   "source": [
    "def print_n_times(value, n = 2):\n",
    "    # n번 반복\n",
    "    for i in range(n):\n",
    "        print(value)\n",
    "\n",
    "# 함수 호출\n",
    "print_n_times(\"WASSUP\")"
   ]
  },
  {
   "cell_type": "markdown",
   "metadata": {},
   "source": [
    "### **키워드 매개변수**\n",
    "\n",
    "### <u>기본 매개변수가 가변 매개변수보다 앞에 올 때</u>\n",
    "#### 오류남"
   ]
  },
  {
   "cell_type": "markdown",
   "metadata": {},
   "source": [
    "\n",
    "### <u>가변 매개변수가 기본 매개변수보다 앞에 올 때</u>\n",
    "\n",
    "#### 예상\n",
    "- ['안녕하세요','올리버썜입니다','우와~']을 3번 출력\n",
    "\n",
    "- ['안녕하세요','올리버썜입니다','우와~',3]을 두 번 출력"
   ]
  },
  {
   "cell_type": "code",
   "execution_count": 9,
   "metadata": {},
   "outputs": [
    {
     "name": "stdout",
     "output_type": "stream",
     "text": [
      "안녕하세요\n",
      "올리버썜입니다\n",
      "우와~\n",
      "3\n",
      "\n",
      "안녕하세요\n",
      "올리버썜입니다\n",
      "우와~\n",
      "3\n",
      "\n"
     ]
    }
   ],
   "source": [
    "def print_n_times(*values, n = 2):\n",
    "    # n번 반복\n",
    "    for i in range(n):\n",
    "        # values는 리스트처럼 활용\n",
    "        for value in values:\n",
    "            print(value)\n",
    "        # 줄바꿈\n",
    "        print()\n",
    "\n",
    "# 함수 호출\n",
    "print_n_times('안녕하세요','올리버썜입니다','우와~',3)"
   ]
  },
  {
   "cell_type": "markdown",
   "metadata": {},
   "source": [
    "### ['안녕하세요','올리버썜입니다','우와~',3]을 두 번 출력함\n",
    "\n",
    "#### 두 가지를 함께 사용할 수 있는 방법 - 키워드 매개변수"
   ]
  },
  {
   "cell_type": "code",
   "execution_count": 20,
   "metadata": {},
   "outputs": [
    {
     "name": "stdout",
     "output_type": "stream",
     "text": [
      "안녕하세요\n",
      "올리버쌤입니다\n",
      "우와~\n",
      "유정이\n",
      "\n",
      "안녕하세요\n",
      "올리버쌤입니다\n",
      "우와~\n",
      "유정이\n",
      "\n",
      "안녕하세요\n",
      "올리버쌤입니다\n",
      "우와~\n",
      "유정이\n",
      "\n",
      "None\n"
     ]
    }
   ],
   "source": [
    "def print_n_times(*values, n = 3):\n",
    "    # n번 반복\n",
    "    for i in range(n):\n",
    "        # values는 리스트처럼 활용\n",
    "        for value in values:\n",
    "            print(value)\n",
    "        # 줄바꿈\n",
    "        print()\n",
    "\n",
    "i = input()\n",
    "# 함수 호출\n",
    "print(print_n_times('안녕하세요','올리버쌤입니다','우와~', i, n = 3))"
   ]
  },
  {
   "cell_type": "markdown",
   "metadata": {},
   "source": [
    "#### 기본 매개변수 중에서 필요한 값만 입력하기\n",
    "\n",
    "##### 키워드 매개변수는 기본 매개변수들로 구성된 함수에서도 많이 쓰임"
   ]
  },
  {
   "cell_type": "code",
   "execution_count": 21,
   "metadata": {},
   "outputs": [
    {
     "name": "stdout",
     "output_type": "stream",
     "text": [
      "60\n",
      "310\n",
      "310\n",
      "220\n"
     ]
    }
   ],
   "source": [
    "def test(a, b=10, c=100):\n",
    "    print(a+b+c)\n",
    "\n",
    "# 1) 기본 형태\n",
    "test(10, 20, 30)\n",
    "# 2) 키워드 매개변수로 모든 매개변수를 지정한 형태\n",
    "test(a=10, b=100, c=200)\n",
    "# 3) 키워드 매개변수로 모든 매개변수를 마구잡이로 지정한 형태\n",
    "test(c=10, a=100, b=200)\n",
    "# 4) 키워드 매개변수로 일부 매개변수만 지정한 형태\n",
    "test(10, c=200)"
   ]
  },
  {
   "cell_type": "markdown",
   "metadata": {},
   "source": [
    "### **리턴(return)**\n",
    "\n",
    "##### 함수의 결과값"
   ]
  },
  {
   "cell_type": "code",
   "execution_count": 22,
   "metadata": {},
   "outputs": [
    {
     "name": "stdout",
     "output_type": "stream",
     "text": [
      "ㅋ\n"
     ]
    }
   ],
   "source": [
    "# input() 함수의 리턴값을 변수에 저장\n",
    "value = input('> ')\n",
    "\n",
    "#출력\n",
    "print(value)"
   ]
  },
  {
   "cell_type": "markdown",
   "metadata": {},
   "source": [
    "#### **자료 없이 리턴**\n",
    "\n",
    "##### <u>return 키워드 사용</u>\n",
    "\n",
    "- 함수를 실행했던 위치로 돌아가라는 뜻 (함수가 끝나는 위치를 의미)"
   ]
  },
  {
   "cell_type": "code",
   "execution_count": 23,
   "metadata": {},
   "outputs": [
    {
     "name": "stdout",
     "output_type": "stream",
     "text": [
      "사각편달 : 2800\n"
     ]
    }
   ],
   "source": [
    "# 함수 정의\n",
    "def return_test():\n",
    "    print('사각편달 : 2800')\n",
    "    return\n",
    "    print('사각편달 : 3200')\n",
    "\n",
    "# 함수 호출\n",
    "return_test()"
   ]
  },
  {
   "cell_type": "markdown",
   "metadata": {},
   "source": [
    "### **자료와 함께 리턴하기**\n",
    "\n",
    "##### <u>리턴 뒤에 자료를 입력하면 자료를 가지고 리턴</u>"
   ]
  },
  {
   "cell_type": "code",
   "execution_count": 24,
   "metadata": {},
   "outputs": [
    {
     "name": "stdout",
     "output_type": "stream",
     "text": [
      "100\n"
     ]
    }
   ],
   "source": [
    "# 함수 정의\n",
    "def return_test():\n",
    "    return 100\n",
    "\n",
    "# 함수 호출\n",
    "value = return_test()\n",
    "print(value)"
   ]
  },
  {
   "cell_type": "markdown",
   "metadata": {},
   "source": [
    "### **아무것도 리턴하지 않기**\n",
    "\n",
    "##### None 출력 ('없다'라는 뜻)"
   ]
  },
  {
   "cell_type": "code",
   "execution_count": 25,
   "metadata": {},
   "outputs": [
    {
     "name": "stdout",
     "output_type": "stream",
     "text": [
      "None\n"
     ]
    }
   ],
   "source": [
    "def return_test():\n",
    "    return\n",
    "\n",
    "value = return_test()\n",
    "print(value)"
   ]
  },
  {
   "cell_type": "markdown",
   "metadata": {},
   "source": [
    "### **기본적인 함수의 활용**\n",
    "\n",
    "> def 함수(매개변수):<br>&#160;&#160;&#160;&#160;&#160;&#160;&#160;변수 = 초깃값<br>&#160;&#160;&#160;&#160;&#160;&#160;&#160;# 여러 가지 처리<br>&#160;&#160;&#160;&#160;&#160;&#160;&#160;# 여러 가지 처리<br>&#160;&#160;&#160;&#160;&#160;&#160;&#160;# 여러 가지 처리<br>&#160;&#160;&#160;&#160;&#160;&#160;&#160;return 변수"
   ]
  },
  {
   "cell_type": "code",
   "execution_count": 26,
   "metadata": {},
   "outputs": [
    {
     "name": "stdout",
     "output_type": "stream",
     "text": [
      "0 to 100 : 5050\n",
      "0 to 1000 : 500500\n",
      "50 to 100 : 3825\n",
      "500 to 1000 : 375750\n"
     ]
    }
   ],
   "source": [
    "# 범위 내부 정수 모두 더하기\n",
    "def sum_all(start, end):\n",
    "    output = 0\n",
    "    for i in range(start, end + 1):\n",
    "        output += i\n",
    "    return output\n",
    "\n",
    "print('0 to 100 :', sum_all(0, 100))\n",
    "print('0 to 1000 :', sum_all(0, 1000))\n",
    "print('50 to 100 :', sum_all(50, 100))\n",
    "print('500 to 1000 :', sum_all(500, 1000))"
   ]
  },
  {
   "cell_type": "code",
   "execution_count": 27,
   "metadata": {},
   "outputs": [
    {
     "name": "stdout",
     "output_type": "stream",
     "text": [
      "A. 550\n",
      "B. 5050\n",
      "C. 2550\n"
     ]
    }
   ],
   "source": [
    "# 기본 매개변수와 키워드 매개변수를 활용해 범위의 정수를 더하는 함수\n",
    "def sum_all(start = 0, end = 0, step = 1):\n",
    "    output = 0\n",
    "    for i in range(start, end + 1, step):\n",
    "        output += i\n",
    "\n",
    "    return output\n",
    "\n",
    "print('A.', sum_all(0, 100, 10))\n",
    "print('B.', sum_all(end = 100))\n",
    "print('C.', sum_all(end = 100, step = 2))"
   ]
  }
 ],
 "metadata": {
  "kernelspec": {
   "display_name": "Python 3",
   "language": "python",
   "name": "python3"
  },
  "language_info": {
   "codemirror_mode": {
    "name": "ipython",
    "version": 3
   },
   "file_extension": ".py",
   "mimetype": "text/x-python",
   "name": "python",
   "nbconvert_exporter": "python",
   "pygments_lexer": "ipython3",
   "version": "3.11.4"
  },
  "orig_nbformat": 4
 },
 "nbformat": 4,
 "nbformat_minor": 2
}
