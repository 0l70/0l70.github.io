{
 "cells": [
  {
   "cell_type": "markdown",
   "metadata": {},
   "source": [
    "# **나 혼자만 파이썬 레벨업 6-2화**\n",
    "\n",
    "> **Lv.6**\n",
    ">> **이경민**"
   ]
  },
  {
   "cell_type": "markdown",
   "metadata": {},
   "source": [
    "### **예외 고급**\n",
    "##### 예외 객체(exception object)\n",
    "> try:<br>&#160;&#160;&#160;&#160;&#160;&#160;&#160;<u>예외가 발생할 가능성이 있는 구문</u><br>except 예외의 종류 as 예외 객체를 활용할 변수 이름:<br>&#160;&#160;&#160;&#160;&#160;&#160;&#160;<u>예외가 발생했을 때 실행할 구문</u>"
   ]
  },
  {
   "cell_type": "code",
   "execution_count": 3,
   "metadata": {},
   "outputs": [
    {
     "name": "stdout",
     "output_type": "stream",
     "text": [
      "type(exception) : <class 'ValueError'>\n",
      "exception : invalid literal for int() with base 10: 'ㅋ'\n"
     ]
    }
   ],
   "source": [
    "# try except 구문으로 예외 처리\n",
    "try:\n",
    "    number_input_a = int(input('정수 입력 >'))\n",
    "    # 출력\n",
    "    print('원의 반지름', number_input_a)\n",
    "    print('원의 둘레', 2 * 3.14 * number_input_a)\n",
    "    print('원의 넓이', 3.14 * number_input_a * number_input_a)\n",
    "except Exception as exception:\n",
    "    print('type(exception) :', type(exception))\n",
    "    print('exception :', exception)"
   ]
  },
  {
   "cell_type": "markdown",
   "metadata": {},
   "source": [
    "### **예외 구분하기**\n",
    "\n",
    "##### 예외 객체를 사용하면 except 구문을 if 조건문처럼 사용해서 예외 구분 가능"
   ]
  },
  {
   "cell_type": "code",
   "execution_count": 5,
   "metadata": {},
   "outputs": [
    {
     "name": "stdout",
     "output_type": "stream",
     "text": [
      "type(exception) <class 'IndexError'>\n",
      "exception : list index out of range\n"
     ]
    }
   ],
   "source": [
    "# 변수 선언\n",
    "list_number = [52, 273, 32, 72, 100]\n",
    "\n",
    "# try except 구문으로 예외 처리\n",
    "try:\n",
    "    # 숫자 입력\n",
    "    number_input = int(input('정수 입력 >'))\n",
    "    # 리스트의 요소 출력\n",
    "    print('{}번째 요소 : {}'.format(number_input, list_number[number_input]))\n",
    "except Exception as exception:\n",
    "    # 예외 객체 출력\n",
    "    print('type(exception)',type(exception))\n",
    "    print('exception :', exception)"
   ]
  },
  {
   "cell_type": "markdown",
   "metadata": {},
   "source": [
    "### **예외 구분하기**\n",
    "\n",
    "> try:<br>&#160;&#160;&#160;&#160;&#160;&#160;&#160;<u>예외가 발생할 가능성이 있는 구문</u><br>except 예외의 종류 A:<br>&#160;&#160;&#160;&#160;&#160;&#160;&#160;<u>예외 B가 발생했을 때 실행할 구문</u><br>except 예외의 종류 B:<br>&#160;&#160;&#160;&#160;&#160;&#160;&#160;<u>예외 B가 발생했을 때 실행할 구문</u><br>except 예외의 종류 C:<br>&#160;&#160;&#160;&#160;&#160;&#160;&#160;<u>예외 C가 발생했을 때 실행할 구문</u>"
   ]
  },
  {
   "cell_type": "code",
   "execution_count": 6,
   "metadata": {},
   "outputs": [
    {
     "name": "stdout",
     "output_type": "stream",
     "text": [
      "정수를 입력해주세요\n"
     ]
    }
   ],
   "source": [
    "# 변수 선언\n",
    "list_number = [52, 273, 32, 72, 100]\n",
    "\n",
    "# try except 구문으로 예외 처리\n",
    "try:\n",
    "    # 숫자 입력\n",
    "    number_input = int(input('정수 입력 >'))\n",
    "    # 리스트의 요소 출력\n",
    "    print('{}번째 요소 : {}'.format(number_input, list_number[number_input]))\n",
    "except ValueError:\n",
    "    # ValueError가 발생하는 경우\n",
    "    print('정수를 입력해주세요')\n",
    "except IndexError:\n",
    "    # IndexError가 발생\n",
    "    print('리스트의 인덱스를 벗어났다')"
   ]
  },
  {
   "cell_type": "markdown",
   "metadata": {},
   "source": [
    "### **예외 구분 구문과 예외 객체**\n",
    "##### **as 키워드**\n",
    "##### 예외를 구분할 때 각각의 except 구문 뒤에 예외 객체를 붙여 활용"
   ]
  },
  {
   "cell_type": "code",
   "execution_count": 7,
   "metadata": {},
   "outputs": [
    {
     "name": "stdout",
     "output_type": "stream",
     "text": [
      "리스트의 인덱스를 벗어났다\n",
      "exception : list index out of range\n"
     ]
    }
   ],
   "source": [
    "# 변수 선언\n",
    "list_number = [52, 273, 32, 72, 100]\n",
    "\n",
    "# try except 구문으로 예외 처리\n",
    "try:\n",
    "    # 숫자 입력\n",
    "    number_input = int(input('정수 입력 >'))\n",
    "    # 리스트의 요소 출력\n",
    "    print('{}번째 요소 : {}'.format(number_input, list_number[number_input]))\n",
    "except ValueError as exception:\n",
    "    # ValueError가 발생하는 경우\n",
    "    print('정수를 입력해주세요')\n",
    "    print('exception :', exception)\n",
    "except IndexError as exception:\n",
    "    # IndexError가 발생\n",
    "    print('리스트의 인덱스를 벗어났다')\n",
    "    print('exception :', exception)"
   ]
  },
  {
   "cell_type": "markdown",
   "metadata": {},
   "source": [
    "### **모든 예외 잡기**"
   ]
  },
  {
   "cell_type": "markdown",
   "metadata": {},
   "source": [
    "### 예외 처리는 했지만 예외를 못 잡는 경우"
   ]
  },
  {
   "cell_type": "code",
   "execution_count": 9,
   "metadata": {},
   "outputs": [
    {
     "name": "stdout",
     "output_type": "stream",
     "text": [
      "1번째 요소 : 273\n"
     ]
    },
    {
     "ename": "NameError",
     "evalue": "name '예외' is not defined",
     "output_type": "error",
     "traceback": [
      "\u001b[0;31m---------------------------------------------------------------------------\u001b[0m",
      "\u001b[0;31mNameError\u001b[0m                                 Traceback (most recent call last)",
      "Cell \u001b[0;32mIn[9], line 10\u001b[0m\n\u001b[1;32m      8\u001b[0m     \u001b[39m# 리스트의 요소 출력\u001b[39;00m\n\u001b[1;32m      9\u001b[0m     \u001b[39mprint\u001b[39m(\u001b[39m'\u001b[39m\u001b[39m{}\u001b[39;00m\u001b[39m번째 요소 : \u001b[39m\u001b[39m{}\u001b[39;00m\u001b[39m'\u001b[39m\u001b[39m.\u001b[39mformat(number_input, list_number[number_input]))\n\u001b[0;32m---> 10\u001b[0m     예외\u001b[39m.\u001b[39m발생시켜주세요()   \u001b[39m# 예외 발생\u001b[39;00m\n\u001b[1;32m     11\u001b[0m \u001b[39mexcept\u001b[39;00m \u001b[39mValueError\u001b[39;00m \u001b[39mas\u001b[39;00m exception:\n\u001b[1;32m     12\u001b[0m     \u001b[39m# ValueError가 발생하는 경우\u001b[39;00m\n\u001b[1;32m     13\u001b[0m     \u001b[39mprint\u001b[39m(\u001b[39m'\u001b[39m\u001b[39m정수를 입력해주세요\u001b[39m\u001b[39m'\u001b[39m)\n",
      "\u001b[0;31mNameError\u001b[0m: name '예외' is not defined"
     ]
    }
   ],
   "source": [
    "# 변수 선언\n",
    "list_number = [52, 273, 32, 72, 100]\n",
    "\n",
    "# try except 구문으로 예외 처리\n",
    "try:\n",
    "    # 숫자 입력\n",
    "    number_input = int(input('정수 입력 >'))\n",
    "    # 리스트의 요소 출력\n",
    "    print('{}번째 요소 : {}'.format(number_input, list_number[number_input]))\n",
    "    예외.발생시켜주세요()   # 예외 발생\n",
    "except ValueError as exception:\n",
    "    # ValueError가 발생하는 경우\n",
    "    print('정수를 입력해주세요')\n",
    "    print('exception :', exception)\n",
    "except IndexError as exception:\n",
    "    # IndexError가 발생\n",
    "    print('리스트의 인덱스를 벗어났다')\n",
    "    print('exception :', exception)"
   ]
  },
  {
   "cell_type": "markdown",
   "metadata": {},
   "source": [
    "#### 예외라는 이름을 정의해놓지 않아 NameError가 뜬다"
   ]
  },
  {
   "cell_type": "code",
   "execution_count": 13,
   "metadata": {},
   "outputs": [
    {
     "name": "stdout",
     "output_type": "stream",
     "text": [
      "1번째 요소 : 273\n",
      "미리 파악하지 못한 예외가 발생했다\n",
      "<class 'NameError'> name '예외' is not defined\n"
     ]
    }
   ],
   "source": [
    "\n",
    "# 변수 선언\n",
    "list_number = [52, 273, 32, 72, 100]\n",
    "\n",
    "# try except 구문으로 예외 처리\n",
    "try:\n",
    "    # 숫자 입력\n",
    "    number_input = int(input('정수 입력 >'))\n",
    "    # 리스트의 요소 출력\n",
    "    print('{}번째 요소 : {}'.format(number_input, list_number[number_input]))\n",
    "    예외.발생시키기()\n",
    "except ValueError as exception:\n",
    "    # ValueError가 발생하는 경우\n",
    "    print('정수를 입력해주세요')\n",
    "    print(type(exception), exception)\n",
    "except IndexError as exception:\n",
    "    # IndexError가 발생\n",
    "    print('리스트의 인덱스를 벗어났다')\n",
    "    print(type(exception), exception)\n",
    "except Exception as exception:\n",
    "    # 이외의 예외가 발생한 경우\n",
    "    print('미리 파악하지 못한 예외가 발생했다')\n",
    "    print(type(exception), exception)"
   ]
  },
  {
   "cell_type": "markdown",
   "metadata": {},
   "source": [
    "### 아직 구현되지 않은 부분에서 강제로 예외 발생시키기\n",
    "\n",
    "### **raise 구문**\n",
    "- 아직 구현되지 않은 부분이므로 일부러 예외를 발생시켜 프로그램 죽게 해서 잊지 않게 하는 것\n",
    "> raise 예외 객체"
   ]
  },
  {
   "cell_type": "code",
   "execution_count": 15,
   "metadata": {},
   "outputs": [
    {
     "ename": "NameError",
     "evalue": "name 'num' is not defined",
     "output_type": "error",
     "traceback": [
      "\u001b[0;31m---------------------------------------------------------------------------\u001b[0m",
      "\u001b[0;31mNameError\u001b[0m                                 Traceback (most recent call last)",
      "Cell \u001b[0;32mIn[15], line 3\u001b[0m\n\u001b[1;32m      1\u001b[0m \u001b[39m# 입력\u001b[39;00m\n\u001b[1;32m      2\u001b[0m number \u001b[39m=\u001b[39m \u001b[39minput\u001b[39m(\u001b[39m'\u001b[39m\u001b[39m정수 입력 >\u001b[39m\u001b[39m'\u001b[39m)\n\u001b[0;32m----> 3\u001b[0m number \u001b[39m=\u001b[39m\u001b[39mint\u001b[39m(num)\n\u001b[1;32m      4\u001b[0m \u001b[39m# 조건문 사용\u001b[39;00m\n\u001b[1;32m      5\u001b[0m \u001b[39mif\u001b[39;00m number \u001b[39m>\u001b[39m \u001b[39m0\u001b[39m:\n\u001b[1;32m      6\u001b[0m     \u001b[39m# 양수일 때: 아직 미구현 상태\u001b[39;00m\n",
      "\u001b[0;31mNameError\u001b[0m: name 'num' is not defined"
     ]
    }
   ],
   "source": [
    "# 입력\n",
    "number = input('정수 입력 >')\n",
    "number =int(num)\n",
    "# 조건문 사용\n",
    "if number > 0:\n",
    "    # 양수일 때: 아직 미구현 상태\n",
    "    raise NotImplemnetedError\n",
    "else:\n",
    "    # 음수일 때: 아직 미구현 상태\n",
    "    raise NotImplemnetedError"
   ]
  }
 ],
 "metadata": {
  "kernelspec": {
   "display_name": "Python 3",
   "language": "python",
   "name": "python3"
  },
  "language_info": {
   "codemirror_mode": {
    "name": "ipython",
    "version": 3
   },
   "file_extension": ".py",
   "mimetype": "text/x-python",
   "name": "python",
   "nbconvert_exporter": "python",
   "pygments_lexer": "ipython3",
   "version": "3.11.4"
  }
 },
 "nbformat": 4,
 "nbformat_minor": 2
}
