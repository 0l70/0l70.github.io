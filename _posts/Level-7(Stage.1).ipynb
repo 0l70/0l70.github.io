{
 "cells": [
  {
   "cell_type": "markdown",
   "metadata": {},
   "source": [
    "# **나 혼자만 파이썬 레벨업 7-1화**\n",
    "\n",
    "> **Lv.7**\n",
    ">> **이경민**"
   ]
  },
  {
   "cell_type": "markdown",
   "metadata": {},
   "source": [
    "## **모듈(module)**\n",
    "\n",
    "##### 여러 변수와 함수를 가지고 있는 집합체\n",
    "\n",
    "##### **표준 모듈**\n",
    "- 파이썬에 기본적으로 내장되어 있는 모듈\n",
    "##### **외부 모듈**\n",
    "- 다른 사람들이 만들어서 공개한 모듈"
   ]
  },
  {
   "cell_type": "markdown",
   "metadata": {},
   "source": [
    "### "
   ]
  },
  {
   "cell_type": "markdown",
   "metadata": {},
   "source": [
    "### **import 구문**\n",
    "##### 모듈을 가져올 때 사용\n",
    "> import 모듈 이름"
   ]
  },
  {
   "cell_type": "markdown",
   "metadata": {},
   "source": [
    "### **모듈 사용의 기본 : math 모듈**\n",
    "##### 수학과 관련된 기능\n",
    "> import math"
   ]
  },
  {
   "cell_type": "code",
   "execution_count": 2,
   "metadata": {},
   "outputs": [
    {
     "name": "stdout",
     "output_type": "stream",
     "text": [
      "0.8414709848078965\n",
      "0.5403023058681398\n",
      "1.557407724654902\n",
      "2\n",
      "3\n"
     ]
    }
   ],
   "source": [
    "import math\n",
    "print(math.sin(1))\n",
    "print(math.cos(1))\n",
    "print(math.tan(1))\n",
    "print(math.floor(2.5))  # 내림\n",
    "print(math.ceil(2.5))   # 올림"
   ]
  },
  {
   "cell_type": "markdown",
   "metadata": {},
   "source": [
    "### <u>모듈 순서</u>\n",
    "\n",
    "변수 또는 함수|설명|\n",
    ":---:|:---:\n",
    "sin(x)|사인값을 구함\n",
    "cos(x)|코사인값을 구함\n",
    "tan(x)|탄젠트값을 구함\n",
    "log(x[,base])|로그값을 구함\n",
    "ceil(x)|올림\n",
    "floor(x)|내림\n",
    "\n",
    "##### round()\n",
    "- 정수가 짝수일 때 소수점이 5면 내리고, 홀수면 소수점이 5면 올림;"
   ]
  },
  {
   "cell_type": "markdown",
   "metadata": {},
   "source": []
  },
  {
   "cell_type": "code",
   "execution_count": 3,
   "metadata": {},
   "outputs": [
    {
     "name": "stdout",
     "output_type": "stream",
     "text": [
      "2\n",
      "2\n",
      "4\n",
      "4\n"
     ]
    }
   ],
   "source": [
    "print(round(1.5))\n",
    "print(round(2.5))\n",
    "print(round(3.5))\n",
    "print(round(4.5))"
   ]
  },
  {
   "cell_type": "markdown",
   "metadata": {},
   "source": [
    "### **from 구문**\n",
    "##### 이거하면 매번 앞에 모듈 이름 안붙여도 됨\n",
    "> from 모듈 이름 import 가져오고 싶은 변수 또는 함수"
   ]
  },
  {
   "cell_type": "code",
   "execution_count": 4,
   "metadata": {},
   "outputs": [
    {
     "name": "stdout",
     "output_type": "stream",
     "text": [
      "0.8414709848078965\n",
      "0.5403023058681398\n",
      "1.557407724654902\n",
      "2\n",
      "3\n"
     ]
    }
   ],
   "source": [
    "from math import sin, cos, tan, floor, ceil\n",
    "print(sin(1))\n",
    "print(cos(1))\n",
    "print(tan(1))\n",
    "print(floor(2.5))\n",
    "print(ceil(2.5))"
   ]
  },
  {
   "cell_type": "markdown",
   "metadata": {},
   "source": [
    "### 모두 가져오기\n",
    "\n",
    "> from math import *\n",
    "\n",
    "##### 모든 것을 가져오면 식별자 이름에서 충돌이 발생될 수 있다. from 구문을 사용할 때는 최대한 필요한 것들만 가져와서 사용하는 것이 좋다.\n"
   ]
  },
  {
   "cell_type": "markdown",
   "metadata": {},
   "source": []
  },
  {
   "cell_type": "markdown",
   "metadata": {},
   "source": [
    "### **as 구문**\n",
    "##### 모듈을 가져올 때 이름 충돌이 발생하는 경우가 있을 수 있다. 모듈의 이름이 길어서 짧게 줄여 쓰고 싶은 경우\n",
    "> import 모듈 as 사용하고 싶은 식별자"
   ]
  },
  {
   "cell_type": "code",
   "execution_count": 5,
   "metadata": {},
   "outputs": [
    {
     "name": "stdout",
     "output_type": "stream",
     "text": [
      "0.8414709848078965\n",
      "0.5403023058681398\n",
      "1.557407724654902\n",
      "2\n",
      "3\n"
     ]
    }
   ],
   "source": [
    "import math as m\n",
    "print(m.sin(1))\n",
    "print(m.cos(1))\n",
    "print(m.tan(1))\n",
    "print(m.floor(2.5))\n",
    "print(m.ceil(2.5))"
   ]
  },
  {
   "cell_type": "markdown",
   "metadata": {},
   "source": [
    "### **random 모듈**\n",
    "##### 랜덤한 값을 생성할 때 사용\n",
    "> import random"
   ]
  },
  {
   "cell_type": "code",
   "execution_count": 10,
   "metadata": {},
   "outputs": [
    {
     "name": "stdout",
     "output_type": "stream",
     "text": [
      "# random 모듈\n",
      "-random() : 0.27772755404279326\n",
      "- uniform(10, 20) : 15.795070244240655\n",
      "- randrange(10) : 4\n",
      "- choice([1, 2, 3, 4, 5]) : 1\n",
      "- shuffle([1, 2, 3, 4, 5]) : None\n",
      "- sample([1, 2, 3, 4, 5], k=2) : [1, 4]\n"
     ]
    }
   ],
   "source": [
    "import random\n",
    "print('# random 모듈')\n",
    "\n",
    "# random(): 0.0 <= x < 1.0 사이의 float를 리턴한다.\n",
    "print('-random() :', random.random())\n",
    "\n",
    "# uniform(min, max) : 지정한 범위 사이의 float를 리턴한다.\n",
    "print('- uniform(10, 20) :', random.uniform(10, 20))\n",
    "\n",
    "# randrange() : 지정한 범위의 int를 리턴한다.\n",
    "# - randrange(max) : 0부터 max 사이의 값을 리턴한다.\n",
    "# - randrange(min, max) : min부터 max 사이의 값을 리턴한다.\n",
    "print('- randrange(10) :', random.randrange(10))\n",
    "\n",
    "# choice(list) : 리스트 내부에 있는 요소를 랜덤하게 선택\n",
    "print('- choice([1, 2, 3, 4, 5]) :', random.choice([1, 2, 3, 4, 5]))\n",
    "\n",
    "# shuffle(list) : 리스트의 요소들을 랜덤하게 섞기\n",
    "print('- shuffle([1, 2, 3, 4, 5]) :', random.shuffle([1, 2, 3, 4, 5]))\n",
    "\n",
    "# sample(list, k=<숫자>) : 리스트의 요소 중에 k개 뽑기\n",
    "print('- sample([1, 2, 3, 4, 5], k=2) :', random.sample([1, 2, 3, 4, 5], k=2))"
   ]
  },
  {
   "cell_type": "markdown",
   "metadata": {},
   "source": [
    "### 모듈 파일 이름 작성 시 주의 사항\n",
    "##### 모듈과 같은 이름으로 파일을 저장하고 실행하면 **TypeError**가 발생\n",
    "- ex) : random.py"
   ]
  },
  {
   "cell_type": "markdown",
   "metadata": {},
   "source": [
    "### **sys 모듈** - WINDOW OS에서 사용\n",
    "##### 시스템과 관련된 정보를 가지고 있는 모듈<br>명령 매개변수를 많이 받을 때 사용\n",
    "##### strftime() 함수 사용 - 시간을 형식에 맞춰 출력 가능"
   ]
  },
  {
   "cell_type": "code",
   "execution_count": 16,
   "metadata": {},
   "outputs": [
    {
     "name": "stdout",
     "output_type": "stream",
     "text": [
      "['/Users/leekyungmin/Library/Python/3.11/lib/python/site-packages/ipykernel_launcher.py', '--ip=127.0.0.1', '--stdin=9018', '--control=9016', '--hb=9015', '--Session.signature_scheme=\"hmac-sha256\"', '--Session.key=b\"3f0610eb-c494-47c5-938d-e0884a4510a7\"', '--shell=9017', '--transport=\"tcp\"', '--iopub=9019', '--f=/Users/leekyungmin/Library/Jupyter/runtime/kernel-v2-27192UrKTfdUH3bE.json']\n",
      "---\n"
     ]
    }
   ],
   "source": [
    "# 모듈을 읽어드리기\n",
    "import sys\n",
    "\n",
    "print(sys.argv)\n",
    "print('---')\n",
    "\n",
    "# 컴퓨터 환경과 관련된 정보를 출력\n",
    "print('getwindowsversion :()', sys.get)\n",
    "# print('---')\n",
    "# print('copyright :', sys.copyright)\n",
    "# print('---')\n",
    "# print('version :', sys.version)\n",
    "\n",
    "# # 프로그램 강제 종료\n",
    "# sys.exit()"
   ]
  },
  {
   "cell_type": "markdown",
   "metadata": {},
   "source": [
    "### **datetime 모듈**\n",
    "\n",
    "##### date(날짜), time(날짜) 관련 모듈"
   ]
  },
  {
   "cell_type": "code",
   "execution_count": 17,
   "metadata": {},
   "outputs": [
    {
     "name": "stdout",
     "output_type": "stream",
     "text": [
      "# 현재 시각 출력\n",
      "2023 년\n",
      "11 월\n",
      "9 일\n",
      "15 시\n",
      "15 분\n",
      "7 초\n",
      "\n",
      "# 시간을 포멧에 맞춰 출력하기\n",
      "2023.11.09 15:15:07\n",
      "2023년 11월 9일 15시 15분 7초\n",
      "2023년.11월.09일 15시:15분:07초\n",
      "\n"
     ]
    }
   ],
   "source": [
    "# 모듈을 읽어들이기\n",
    "import datetime\n",
    "\n",
    "# 현재 시각을 구하고 출력하기\n",
    "print('# 현재 시각 출력')\n",
    "now = datetime.datetime.now()\n",
    "print(now.year, '년')\n",
    "print(now.month, '월')\n",
    "print(now.day, '일')\n",
    "print(now.hour, '시')\n",
    "print(now.minute, '분')\n",
    "print(now.second, '초')\n",
    "print()\n",
    "\n",
    "# 시간 출력 방법\n",
    "print('# 시간을 포멧에 맞춰 출력하기')\n",
    "output_a = now.strftime('%Y.%m.%d %H:%M:%S')\n",
    "output_b = '{}년 {}월 {}일 {}시 {}분 {}초'.format(now.year,\\\n",
    "    now.month,\\\n",
    "    now.day,\\\n",
    "    now.hour,\\\n",
    "    now.minute,\\\n",
    "    now.second)\n",
    "output_c = now.strftime('%Y{}.%m{}.%d{} %H{}:%M{}:%S{}').format(*'년월일시분초')\n",
    "print(output_a)\n",
    "print(output_b)\n",
    "print(output_c)\n",
    "print()"
   ]
  },
  {
   "cell_type": "markdown",
   "metadata": {},
   "source": [
    "#### 시간 처리하기\n",
    "\n",
    "##### timedelta() : 특정한 시간 이전 / 이후 구하기\n",
    "##### replace() : 값 교체"
   ]
  },
  {
   "cell_type": "code",
   "execution_count": 21,
   "metadata": {},
   "outputs": [
    {
     "name": "stdout",
     "output_type": "stream",
     "text": [
      "# datetime.timedelta로 시간 더하기\n",
      "2023년.11월.17일 16시:37분:26초\n",
      "\n",
      "# now.replace()로 1년 더하기\n",
      "2024년.11월.09일 15시:36분:25초\n"
     ]
    }
   ],
   "source": [
    "import datetime\n",
    "now = datetime.datetime.now()\n",
    "\n",
    "# 특정 시간 이후의 시간 구하기\n",
    "print('# datetime.timedelta로 시간 더하기')\n",
    "after = now + datetime.timedelta(\\\n",
    "    weeks = 1,\\\n",
    "    days = 1,\\\n",
    "    hours = 1,\\\n",
    "    minutes = 1,\\\n",
    "    seconds = 1)\n",
    "print(after.strftime('%Y{}.%m{}.%d{} %H{}:%M{}:%S{}').format(*'년월일시분초'))\n",
    "print()\n",
    "\n",
    "# 특정 시간 교체하기\n",
    "print('# now.replace()로 1년 더하기')\n",
    "output = now.replace(year = (now.year + 1))\n",
    "print(output.strftime('%Y{}.%m{}.%d{} %H{}:%M{}:%S{}').format(*'년월일시분초'))"
   ]
  },
  {
   "cell_type": "markdown",
   "metadata": {},
   "source": [
    "### **time 모듈**\n",
    "\n",
    "##### 시간과 관련된 기능\n",
    "\n",
    "##### **time.sleep()** - 어느 시간까지 코드 진행을 정지시키는 함수"
   ]
  },
  {
   "cell_type": "code",
   "execution_count": 23,
   "metadata": {},
   "outputs": [
    {
     "name": "stdout",
     "output_type": "stream",
     "text": [
      "5초 타임스톱~\n",
      "현재 정복 완료\n"
     ]
    }
   ],
   "source": [
    "import time\n",
    "\n",
    "print('5초 타임스톱~')\n",
    "time.sleep(5)\n",
    "print('현재 정복 완료')"
   ]
  },
  {
   "cell_type": "markdown",
   "metadata": {},
   "source": [
    "### **urllib 모듈** - ~~나중에 외부 모듈 request 깔자 ㅋ~~\n",
    "##### URL을 다루는 라이브러리"
   ]
  },
  {
   "cell_type": "markdown",
   "metadata": {},
   "source": [
    "```python\n",
    "from urllib import request  # ---> import request 외부 모듈이나 사용하자\n",
    "\n",
    "# urlopen()함수로 구글의 메인 페이지 읽기\n",
    "target = request.urlopen('https://www.google.com')\n",
    "output = target.read()\n",
    "\n",
    "#출력\n",
    "print(output)\n",
    "```"
   ]
  },
  {
   "cell_type": "markdown",
   "metadata": {},
   "source": [
    "### **operator.itemgetter() 함수**\n",
    "\n",
    "##### 딕셔너리 형태 리스트에서 콜백 함수나 람다로 최댓값 최솟값 구하기 <Lv.5(Stage3)>\n"
   ]
  },
  {
   "cell_type": "code",
   "execution_count": null,
   "metadata": {},
   "outputs": [],
   "source": [
    "#키워드 매개변수에 함수 전달하기 Level_5(Stage.3)\n",
    "User = [{\n",
    "    '이름' : '이경민',\n",
    "    '레벨' : 5\n",
    "}, {\n",
    "    '이름' : '김현재',\n",
    "    '레벨' : 4\n",
    "}, {\n",
    "    '이름' : '이아현',\n",
    "    '레벨' : 3\n",
    "}]\n",
    "\n",
    "def 레벨추출함수(level):\n",
    "    return level['레벨']\n",
    "\n",
    "print('# 파이썬만 했더니 너무 강함')\n",
    "print(max(User, key = 레벨추출함수))\n",
    "print()\n",
    "\n",
    "print('# 슬라임 그 자체')\n",
    "print(min(User, key = 레벨추출함수))"
   ]
  },
  {
   "cell_type": "markdown",
   "metadata": {},
   "source": [
    "#### **콜백 함수** : 코드를 위에서 아래로 읽어 내리다가 '레벨추출함수'가 <br>&#160;&#160;&#160;&#160;&#160;&#160;&#160;&#160;&#160;&#160;&#160;&#160;&#160;&#160;&#160;&#160;&#160;&#160;무엇인지 알기 위해 함수를 찾아서 내용을 살펴야 됨\n",
    "#### **람다** : 람다는 어려운 문법"
   ]
  },
  {
   "cell_type": "markdown",
   "metadata": {},
   "source": [
    "### **operator 모듈**의 **itemgetter() 함수**는 특정 요소를 추출하는 함수를 만드는 함수\n",
    "\n",
    "##### 코드를 읽으면서 바로 이해할 수 있다.\n",
    "##### 람다 함수를 사용하는 것 보다 코드 읽는 것이 쉽다. itemgetter() 함수가 무엇인지 몰라도 코드와 함수 이름만 봐도 '어떤 기능을 하겠다' 생각할 수 있음"
   ]
  }
 ],
 "metadata": {
  "kernelspec": {
   "display_name": "Python 3",
   "language": "python",
   "name": "python3"
  },
  "language_info": {
   "codemirror_mode": {
    "name": "ipython",
    "version": 3
   },
   "file_extension": ".py",
   "mimetype": "text/x-python",
   "name": "python",
   "nbconvert_exporter": "python",
   "pygments_lexer": "ipython3",
   "version": "3.11.4"
  }
 },
 "nbformat": 4,
 "nbformat_minor": 2
}
