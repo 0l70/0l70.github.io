{
 "cells": [
  {
   "cell_type": "markdown",
   "metadata": {},
   "source": [
    "# **나 혼자만 파이썬 레벨업 8-1화**\n",
    "\n",
    "> **Lv.8**\n",
    ">> **이경민**"
   ]
  },
  {
   "cell_type": "markdown",
   "metadata": {},
   "source": [
    "<table>\n",
    "    <tr>\n",
    "        <td align = 'center'><font size = '5'><b>클래스</b></font></td>\n",
    "        <td><font size = '5'>객체를 쉽고 편리하게 쓰기 위한 구문</font></td>\n",
    "    </tr>\n",
    "    <tr>\n",
    "        <td align = 'center'><font size = '5'><b>객체</b></font></td>\n",
    "        <td><font size = '5'>속성과 메소드를 갖는 것</font></td>\n",
    "    <tr>\n",
    "        <td align = 'center'><font size = '5'><b>인스턴스</b></font></td>\n",
    "        <td><font size = '5'>클래스를 기반으로 생성한 객체</font></td>\n",
    "    <tr>\n",
    "        <td align = 'center'><font size = '5'><b>생성자</b></font></td>\n",
    "        <td><font size = '5'>클래스 이름과 같은 인스턴스를 생성할 때 쓰는 함수</font></td>\n",
    "    <tr>\n",
    "        <td align = 'center'><font size = '5'><b>메소드</b></font></td>\n",
    "        <td><font size = '5'>클래스를 가진 함수</font></td>\n",
    "    </tr>\n",
    "</table>\n"
   ]
  },
  {
   "cell_type": "markdown",
   "metadata": {},
   "source": [
    "### **객체**\n",
    "##### 속성과 메소드를 갖는 것"
   ]
  },
  {
   "cell_type": "code",
   "execution_count": 19,
   "metadata": {},
   "outputs": [
    {
     "name": "stdout",
     "output_type": "stream",
     "text": [
      "이름\t총점\t평균\n",
      "허유림\t333\t83.25\n"
     ]
    }
   ],
   "source": [
    "students = [\n",
    "    {\"name\": '이경민', \"DC\" : 98, \"DS\" : 92, \"Python\" : 90, \"Semiconductor\" : 95},\n",
    "    {\"name\": '김현재', \"DC\" : 88, \"DS\" : 72, \"Python\" : 80, \"Semiconductor\" : 89},\n",
    "    {\"name\": '배현진', \"DC\" : 97, \"DS\" : 80, \"Python\" : 80, \"Semiconductor\" : 75},\n",
    "    {\"name\": '허유림', \"DC\" : 90, \"DS\" : 85, \"Python\" : 80, \"Semiconductor\" : 78}\n",
    "]\n",
    "\n",
    "# 학생 한 명씩 반복\n",
    "print(\"이름\", \"총점\", \"평균\", sep = \"\\t\")\n",
    "\n",
    "for student in students:\n",
    "    # 점수의 총합과 평균 구하기\n",
    "    score_sum = student[\"DC\"] + student[\"DS\"] + \\\n",
    "        student[\"Python\"] + student[\"Semiconductor\"]\n",
    "    score_average = score_sum / 4\n",
    "print(student['name'], score_sum, score_average, sep=\"\\t\")"
   ]
  },
  {
   "cell_type": "markdown",
   "metadata": {},
   "source": [
    "### **클래스**\n",
    "##### 객체를 쉽고 편리하게 쓰기 위한 구문"
   ]
  },
  {
   "cell_type": "markdown",
   "metadata": {},
   "source": [
    "```python\n",
    "class 클래스 이름:\n",
    "    클래스 내용\n",
    "```\n",
    "---"
   ]
  },
  {
   "cell_type": "markdown",
   "metadata": {},
   "source": [
    "### **생성자**\n",
    "##### 클래스 이름과 같은 인스턴스를 생성할 때 쓰는 함수\n",
    "\n",
    "~~~python\n",
    "class 클래스 이름:\n",
    "    def __init__(self, 추가적인 매개변수):\n",
    "        pass\n",
    "~~~\n",
    "---"
   ]
  },
  {
   "cell_type": "markdown",
   "metadata": {},
   "source": [
    "~~~python\n",
    "# 클래스 선언\n",
    "class Student:\n",
    "    def __init__(self, name, korean, math, english, science):\n",
    "        self.name = name\n",
    "        self.korean = korean\n",
    "        self.math = math\n",
    "        self.english = english\n",
    "        self.science = science\n",
    "# 학생 리스트 선언\n",
    "students = [\n",
    "    Student('이경민', 98, 92, 90, 95),\n",
    "    Student('김현재', 88, 72, 80, 89),\n",
    "    Student('배현진', 97, 80, 80, 75),\n",
    "    Student('허유림', 90, 85, 80, 78)\n",
    "]\n",
    "\n",
    "# Student 인스턴스의 속성에 접근하는 방법\n",
    "Students[0].name\n",
    "Students[0].korean\n",
    "Students[0].math\n",
    "Students[0].english\n",
    "Students[0].science\n",
    "~~~\n",
    "##### 이렇게 만들면 student 인스턴스가 생성될 때 속성이 직접 추가된다.\n",
    "---"
   ]
  },
  {
   "cell_type": "markdown",
   "metadata": {},
   "source": [
    "#### <u>여기서 잠깐~</u>\n",
    "### **소멸자(destructor)**\n",
    "##### _ _ del _ _ (self)\n",
    "##### 생성자와 반대로 인스턴스가 소멸될 때 호출하는 함수"
   ]
  },
  {
   "cell_type": "code",
   "execution_count": 13,
   "metadata": {},
   "outputs": [
    {
     "name": "stdout",
     "output_type": "stream",
     "text": [
      "A - 생성됐음\n",
      "A - 파괴됐음\n"
     ]
    }
   ],
   "source": [
    "class Test:\n",
    "    def __init__(self,name):\n",
    "        self.name = name\n",
    "        print('{} - 생성됐음'.format(self.name))\n",
    "    def __del__(self):\n",
    "        print('{} - 파괴됐음'.format(self.name))\n",
    "\n",
    "test = Test(\"A\")"
   ]
  },
  {
   "cell_type": "markdown",
   "metadata": {},
   "source": [
    "### **메소드**\n",
    "##### 클래스를 가진 함수\n",
    "\n",
    "```python\n",
    "class 클래스 이름:\n",
    "    def 메소드 이름(self, 추가적인 매개변수):\n",
    "        pass\n",
    "```\n",
    "---"
   ]
  },
  {
   "cell_type": "code",
   "execution_count": 7,
   "metadata": {},
   "outputs": [
    {
     "name": "stdout",
     "output_type": "stream",
     "text": [
      "이름\t총점\t평균\n",
      "이경민\t375\t93.75\n",
      "김현재\t329\t82.25\n",
      "배현진\t332\t83.0\n",
      "허유림\t333\t83.25\n"
     ]
    }
   ],
   "source": [
    "class Student:\n",
    "    def __init__(self, name, korean, math, english, science):\n",
    "        self.name = name\n",
    "        self.korean = korean\n",
    "        self.math = math\n",
    "        self.english = english\n",
    "        self.science = science\n",
    "\n",
    "    def get_sum(self):\n",
    "        return self.korean + self.math +\\\n",
    "            self.english + self.science\n",
    "\n",
    "    def get_average(self):\n",
    "        return self.get_sum()/4\n",
    "    \n",
    "    def to_string(self):\n",
    "        return '{}\\t{}\\t{}'.format(\\\n",
    "            self.name,\\\n",
    "            self.get_sum(),\\\n",
    "            self.get_average())\n",
    "\n",
    "students = [\n",
    "    Student('이경민', 98, 92, 90, 95),\n",
    "    Student('김현재', 88, 72, 80, 89),\n",
    "    Student('배현진', 97, 80, 80, 75),\n",
    "    Student('허유림', 90, 85, 80, 78)\n",
    "]\n",
    "\n",
    "print('이름', '총점', '평균', sep ='\\t')\n",
    "for student in students:\n",
    "    print(student.to_string())"
   ]
  },
  {
   "cell_type": "markdown",
   "metadata": {},
   "source": [
    "### **인스턴스**\n",
    "##### 클래스를 기반으로 생성한 객체"
   ]
  },
  {
   "cell_type": "markdown",
   "metadata": {},
   "source": []
  }
 ],
 "metadata": {
  "kernelspec": {
   "display_name": "Python 3",
   "language": "python",
   "name": "python3"
  },
  "language_info": {
   "codemirror_mode": {
    "name": "ipython",
    "version": 3
   },
   "file_extension": ".py",
   "mimetype": "text/x-python",
   "name": "python",
   "nbconvert_exporter": "python",
   "pygments_lexer": "ipython3",
   "version": "3.11.4"
  }
 },
 "nbformat": 4,
 "nbformat_minor": 2
}
