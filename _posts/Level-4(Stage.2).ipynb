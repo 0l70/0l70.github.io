{
 "cells": [
  {
   "cell_type": "markdown",
   "metadata": {},
   "source": [
    "# **나 혼자만 파이썬 레벨업 4-2화**\n",
    "\n",
    "> **Lv.4**\n",
    ">> **이경민**"
   ]
  },
  {
   "cell_type": "markdown",
   "metadata": {},
   "source": [
    "### **딕셔너리와 반복문**\n",
    "\n",
    "#### **리스트 (list)**\n",
    "> 인덱스를 기반으로 값을 저장\n",
    "\n",
    "#### **딕셔너리 (dictionary)**\n",
    "> 키(key)를 기반으로 값(key)을 저장\n",
    "\n",
    "<br>\n",
    "\n",
    "|자료형|의미|가리키는 위치|선언 형식|\n",
    "|:---:|:---:|:---:|:---:|\n",
    "|리스트|인덱스를 기반으로 값 저장|인덱스|변수 = []|\n",
    "|딕셔너리|키를 기반으로 값 저장|키|변수 = {}|"
   ]
  },
  {
   "cell_type": "markdown",
   "metadata": {},
   "source": [
    "### 딕셔너리 선언하기\n",
    "\n",
    "#### 딕셔너리는 { }로 선언하며, 키:값 형태로 쉼표(,)로 연결해서 만듦\n",
    "\n",
    "> 변수 = {<br>&#160;&#160;&#160;&#160;&#160;&#160;&#160;&#160;키:값,<br>&#160;&#160;&#160;&#160;&#160;&#160;&#160;&#160;키:값,<br>&#160;&#160;&#160;&#160;&#160;&#160;&#160;&#160;...<br>&#160;&#160;&#160;&#160;&#160;&#160;&#160;&#160;키:값<br>}"
   ]
  },
  {
   "cell_type": "code",
   "execution_count": 2,
   "metadata": {},
   "outputs": [
    {
     "data": {
      "text/plain": [
       "{'name': '이경민', 'Level': 'Lv.4'}"
      ]
     },
     "execution_count": 2,
     "metadata": {},
     "output_type": "execute_result"
    }
   ],
   "source": [
    "dict_a = {\n",
    "    \"name\" : \"이경민\",\n",
    "    \"Level\" : \"Lv.4\"\n",
    "}\n",
    "dict_a"
   ]
  },
  {
   "cell_type": "code",
   "execution_count": 15,
   "metadata": {},
   "outputs": [
    {
     "name": "stdout",
     "output_type": "stream",
     "text": [
      "project : 나 혼자 python 레벨 업\n",
      "name : ['이경민', '김현재', '이아현', '오민우']\n",
      "정종필 : Professor\n",
      "이경민 : Lv.4\n",
      "김현재 : Lv.1\n"
     ]
    }
   ],
   "source": [
    "dict_a = {\n",
    "    \"project\" : \"나 혼자 python 레벨 업\",\n",
    "    \"name\" : [\"이경민\", \"김현재\", \"이아현\", \"오민우\"],\n",
    "    \"정종필\" : \"student\",\n",
    "    \"Level\" : [\"Lv.1\", \"Lv.2\", \"Lv.3\", \"Lv.4\"]\n",
    "}\n",
    "\n",
    "#출력하기\n",
    "print(\"project :\",dict_a[\"project\"])\n",
    "print(\"name :\",dict_a[\"name\"])\n",
    "\n",
    "#값을 변경\n",
    "dict_a[\"정종필\"] = \"Professor\"\n",
    "print(\"정종필 :\", dict_a[\"정종필\"])\n",
    "\n",
    "# 리스트에서 인덱스 값으로 요소 출력\n",
    "#이경민 레벨\n",
    "print(dict_a[\"name\"][0], \":\", dict_a[\"Level\"][3])\n",
    "\n",
    "#김현재 레벨\n",
    "print(dict_a[\"name\"][1],\":\",dict_a[\"Level\"][0])"
   ]
  },
  {
   "cell_type": "markdown",
   "metadata": {},
   "source": [
    "## **딕셔너리 값 추가 / 제거**\n",
    "\n",
    "#### **추가**\n",
    "\n",
    "> 딕셔너리[새로운 키] : 새로운 값\n",
    "\n",
    "#### **제거**\n",
    "\n",
    "> del 딕셔너리[삭제할 키]"
   ]
  },
  {
   "cell_type": "code",
   "execution_count": 14,
   "metadata": {},
   "outputs": [
    {
     "name": "stdout",
     "output_type": "stream",
     "text": [
      "{'project': '나 혼자 python 레벨 업', 'name': ['이경민', '김현재', '이아현', '오민우'], '정종필': 'student', 'Level': ['Lv.1', 'Lv.2', 'Lv.3', 'Lv.4'], 'sex': 'cex', '탈락자': '이재열'}\n",
      "{'project': '나 혼자 python 레벨 업', 'name': ['이경민', '김현재', '이아현', '오민우'], '정종필': 'student', 'Level': ['Lv.1', 'Lv.2', 'Lv.3', 'Lv.4'], '탈락자': '이재열'}\n"
     ]
    }
   ],
   "source": [
    "dict_a = {\n",
    "    \"project\" : \"나 혼자 python 레벨 업\",\n",
    "    \"name\" : [\"이경민\", \"김현재\", \"이아현\", \"오민우\"],\n",
    "    \"정종필\" : \"student\",\n",
    "    \"Level\" : [\"Lv.1\", \"Lv.2\", \"Lv.3\", \"Lv.4\"],\n",
    "    \"sex\" : \"cex\"\n",
    "}\n",
    "\n",
    "#새로운 값 추가하기\n",
    "dict_a[\"탈락자\"] = \"이재열\"\n",
    "print(dict_a)\n",
    "\n",
    "#기존 값 제거하기\n",
    "del dict_a[\"sex\"]\n",
    "print(dict_a)"
   ]
  },
  {
   "cell_type": "markdown",
   "metadata": {},
   "source": [
    "### **in 키워드**\n"
   ]
  },
  {
   "cell_type": "code",
   "execution_count": 16,
   "metadata": {},
   "outputs": [
    {
     "name": "stdout",
     "output_type": "stream",
     "text": [
      "존재 X\n"
     ]
    }
   ],
   "source": [
    "dict_a = {\n",
    "    \"project\" : \"나 혼자 python 레벨 업\",\n",
    "    \"name\" : [\"이경민\", \"김현재\", \"이아현\", \"오민우\"],\n",
    "    \"정종필\" : \"student\",\n",
    "    \"Level\" : [\"Lv.1\", \"Lv.2\", \"Lv.3\", \"Lv.4\"]\n",
    "}\n",
    "\n",
    "# 사용자 입력\n",
    "key = input(\"접근 키 :\")\n",
    "\n",
    "# 출력\n",
    "if key in dict_a:\n",
    "    print(dict_a[key])\n",
    "else:\n",
    "    print(\"존재 X\")"
   ]
  },
  {
   "cell_type": "markdown",
   "metadata": {},
   "source": [
    "### **get( ) 함수**"
   ]
  },
  {
   "cell_type": "code",
   "execution_count": 18,
   "metadata": {},
   "outputs": [
    {
     "name": "stdout",
     "output_type": "stream",
     "text": [
      "값 : None\n",
      "존재하지 않는다 시@봉뱅꺼~\n"
     ]
    }
   ],
   "source": [
    "dict_a = {\n",
    "    \"project\" : \"나 혼자 python 레벨 업\",\n",
    "    \"name\" : [\"이경민\", \"김현재\", \"이아현\", \"오민우\"],\n",
    "    \"정종필\" : \"student\",\n",
    "    \"Level\" : [\"Lv.1\", \"Lv.2\", \"Lv.3\", \"Lv.4\"]\n",
    "}\n",
    "\n",
    "# 존재하지 않는 키에 접근\n",
    "Value = dict_a.get(\"존재하지 않는 키\")\n",
    "print(\"값 :\", Value)\n",
    "\n",
    "#None 확인 방법\n",
    "if Value == None:\n",
    "    print(\"존재하지 않는다 시@봉뱅꺼~\")"
   ]
  },
  {
   "cell_type": "markdown",
   "metadata": {},
   "source": [
    "### **for 반복문** : 딕셔너리와 함께 사용하기\n",
    "\n",
    "> for 키 변수 in 딕셔너리:<br>&#160;&#160;&#160;&#160;&#160;&#160;코드"
   ]
  },
  {
   "cell_type": "code",
   "execution_count": 19,
   "metadata": {},
   "outputs": [
    {
     "name": "stdout",
     "output_type": "stream",
     "text": [
      "project : 나 혼자 python 레벨 업\n",
      "name : ['이경민', '김현재', '이아현', '오민우']\n",
      "정종필 : student\n",
      "Level : ['Lv.1', 'Lv.2', 'Lv.3', 'Lv.4']\n"
     ]
    }
   ],
   "source": [
    "dict_a = {\n",
    "    \"project\" : \"나 혼자 python 레벨 업\",\n",
    "    \"name\" : [\"이경민\", \"김현재\", \"이아현\", \"오민우\"],\n",
    "    \"정종필\" : \"student\",\n",
    "    \"Level\" : [\"Lv.1\", \"Lv.2\", \"Lv.3\", \"Lv.4\"]\n",
    "}\n",
    "\n",
    "# for 반복문 사용\n",
    "for key in dict_a:\n",
    "    #출력\n",
    "    print(key, ':', dict_a[key])"
   ]
  }
 ],
 "metadata": {
  "kernelspec": {
   "display_name": "Python 3",
   "language": "python",
   "name": "python3"
  },
  "language_info": {
   "codemirror_mode": {
    "name": "ipython",
    "version": 3
   },
   "file_extension": ".py",
   "mimetype": "text/x-python",
   "name": "python",
   "nbconvert_exporter": "python",
   "pygments_lexer": "ipython3",
   "version": "3.11.4"
  },
  "orig_nbformat": 4
 },
 "nbformat": 4,
 "nbformat_minor": 2
}
