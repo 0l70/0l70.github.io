{
 "cells": [
  {
   "cell_type": "markdown",
   "metadata": {},
   "source": [
    "# **나 혼자만 파이썬 레벨업 4-1화**\n",
    "\n",
    "> **Lv.4**\n",
    ">> **이경민**\n"
   ]
  },
  {
   "cell_type": "markdown",
   "metadata": {},
   "source": [
    "## **리스트와 반복문**\n",
    "\n",
    "#### **리스트(list)**\n",
    "- 여러 가지 자료를 저장할 수 있는 자료\n"
   ]
  },
  {
   "cell_type": "code",
   "execution_count": 68,
   "metadata": {},
   "outputs": [
    {
     "name": "stdout",
     "output_type": "stream",
     "text": [
      "[273, 32, 103, '문자열', True, False]\n"
     ]
    }
   ],
   "source": [
    "array = [273, 32, 103, \"문자열\", True, False]\n",
    "print(array)"
   ]
  },
  {
   "cell_type": "markdown",
   "metadata": {},
   "source": [
    "### **요소(element)**\n",
    "- [ ] 내부에 넣는 자료\n",
    "\n",
    "#### **인덱스(index)**\n",
    "- [ ] 안에 있는 숫자(순번)\n",
    "\n",
    "|list_a|273|32|103|'문자열'|True|False|\n",
    "|:---:|:---:|:---:|:---:|:---:|:---:|:---:|\n",
    "||[0]|[1]|[2]|[3]|[4]|[5]|"
   ]
  },
  {
   "cell_type": "code",
   "execution_count": 69,
   "metadata": {},
   "outputs": [
    {
     "data": {
      "text/plain": [
       "[32, 103]"
      ]
     },
     "execution_count": 69,
     "metadata": {},
     "output_type": "execute_result"
    }
   ],
   "source": [
    "list_a = [273, 32, 103, \"문자열\", True, False]\n",
    "\n",
    "list_a[1:3]"
   ]
  },
  {
   "cell_type": "code",
   "execution_count": 70,
   "metadata": {},
   "outputs": [
    {
     "data": {
      "text/plain": [
       "['변경', 32, 103, '문자열', True, False]"
      ]
     },
     "execution_count": 70,
     "metadata": {},
     "output_type": "execute_result"
    }
   ],
   "source": [
    "list_a = [273, 32, 103, \"문자열\", True, False]\n",
    "list_a[0] = \"변경\"\n",
    "list_a"
   ]
  },
  {
   "cell_type": "code",
   "execution_count": 71,
   "metadata": {},
   "outputs": [
    {
     "data": {
      "text/plain": [
       "[273, '얏호~', 103, '문자열', True, False]"
      ]
     },
     "execution_count": 71,
     "metadata": {},
     "output_type": "execute_result"
    }
   ],
   "source": [
    "list_b = [273, 32, 103, \"문자열\", True, False]\n",
    "list_b[1] = \"얏호~\"\n",
    "list_b"
   ]
  },
  {
   "cell_type": "code",
   "execution_count": 72,
   "metadata": {},
   "outputs": [
    {
     "data": {
      "text/plain": [
       "'문'"
      ]
     },
     "execution_count": 72,
     "metadata": {},
     "output_type": "execute_result"
    }
   ],
   "source": [
    "list_a = [273, 32, 103, \"문자열\", True, False]\n",
    "list_b[3][0]    #list_b의 [3] array의 [0] array 추출\n"
   ]
  },
  {
   "cell_type": "code",
   "execution_count": 73,
   "metadata": {},
   "outputs": [
    {
     "data": {
      "text/plain": [
       "[4, 5, 6]"
      ]
     },
     "execution_count": 73,
     "metadata": {},
     "output_type": "execute_result"
    }
   ],
   "source": [
    "list_a = [[1,2,3],[4,5,6],[7,8,9]]\n",
    "list_a[1]"
   ]
  },
  {
   "cell_type": "markdown",
   "metadata": {},
   "source": [
    "### **리스트 연산하기 : 연결(+), 반복(*), len( )**"
   ]
  },
  {
   "cell_type": "code",
   "execution_count": 94,
   "metadata": {},
   "outputs": [
    {
     "name": "stdout",
     "output_type": "stream",
     "text": [
      "#list\n",
      "[1, 2, 3]\n",
      "[4, 5, 6]\n",
      "\n",
      "#리스트 기본 연산자\n",
      "list_a + list_b = [1, 2, 3, 4, 5, 6]\n",
      "list_a * 3 = [1, 2, 3, 1, 2, 3, 1, 2, 3]\n",
      "\n",
      "#길이 구하기\n",
      "len(list_a)= 3\n"
     ]
    }
   ],
   "source": [
    "list_a = [1, 2, 3]\n",
    "list_b = [4, 5, 6]\n",
    "\n",
    "print(\"#list\")\n",
    "print(list_a)\n",
    "print(list_b)\n",
    "print()\n",
    "\n",
    "# 리스트 연산자\n",
    "print(\"#리스트 기본 연산자\")\n",
    "print(\"list_a + list_b =\",list_a+list_b)\n",
    "print(\"list_a * 3 =\",list_a*3)\n",
    "print()\n",
    "\n",
    "#함수\n",
    "print(\"#길이 구하기\")\n",
    "print(\"len(list_a)=\",len(list_a))"
   ]
  },
  {
   "cell_type": "markdown",
   "metadata": {},
   "source": [
    "### 리스트 요소 추가하기\n",
    "\n",
    "##### **append( )**\n",
    "> 리스트명.append(요소)\n",
    "##### **insert( )**\n",
    "> 리스트명.insert(위치,요소)"
   ]
  },
  {
   "cell_type": "code",
   "execution_count": 75,
   "metadata": {},
   "outputs": [
    {
     "name": "stdout",
     "output_type": "stream",
     "text": [
      "# 리스트 뒤에 요소 추가하기\n",
      "[1, 2, 3, 4, 5]\n",
      "\n",
      "# 리스트 중간에 요소 추가하기\n",
      "[10, 1, 2, 3, 4, 5]\n"
     ]
    }
   ],
   "source": [
    "list_a = [1, 2, 3]\n",
    "\n",
    "# 리스트 뒤에 요소 추가하기\n",
    "print(\"# 리스트 뒤에 요소 추가하기\")\n",
    "list_a.append(4)\n",
    "list_a.append(5)\n",
    "print(list_a)\n",
    "print()\n",
    "\n",
    "# 리스트 중간에 요소 추가하기\n",
    "print(\"# 리스트 중간에 요소 추가하기\")\n",
    "list_a.insert(0, 10)    #0번 index에 요소 10 추가\n",
    "print(list_a)"
   ]
  },
  {
   "cell_type": "markdown",
   "metadata": {},
   "source": [
    "### 여러 요소를 한 번에 추가하기\n",
    "\n",
    "##### **extend( )**\n",
    "\n",
    "> 리스트명.extend(추가 요소 리스트)"
   ]
  },
  {
   "cell_type": "code",
   "execution_count": 76,
   "metadata": {},
   "outputs": [
    {
     "name": "stdout",
     "output_type": "stream",
     "text": [
      "[1, 2, 3, 4, 5, 6]\n"
     ]
    }
   ],
   "source": [
    "list_a = [1, 2, 3]\n",
    "list_a.extend([4, 5, 6])\n",
    "print(list_a)"
   ]
  },
  {
   "cell_type": "markdown",
   "metadata": {},
   "source": [
    "#### 이와 같이 리스트 연산자는 비파괴적 : list_a, list_b가 그대로임\n",
    "#### append( ), insert( ), extend( )는 파괴적 : list_a에 추가됨으로서 list_a는 다른 변수가 됨"
   ]
  },
  {
   "cell_type": "markdown",
   "metadata": {},
   "source": [
    "### 리스트에 요소 제거하기\n",
    "\n",
    "- 인덱스로 제거하기\n",
    "\n",
    "- 값으로 제거하기"
   ]
  },
  {
   "cell_type": "markdown",
   "metadata": {},
   "source": [
    "### **인덱스로 제거**\n",
    "\n",
    "> del 키워드, pop( )\n",
    "#### 요소의 위치를 기반으로 요소를 제거\n",
    "\n",
    "### 형태\n",
    "- del 키워드\n",
    "> del 인덱스명[인덱스]\n",
    "- pop( )\n",
    "> 리스트명.pop(인덱스)"
   ]
  },
  {
   "cell_type": "code",
   "execution_count": 77,
   "metadata": {},
   "outputs": [
    {
     "name": "stdout",
     "output_type": "stream",
     "text": [
      "#리스트의 요소 하나 제거하기\n",
      "del list_a[1]: [0, 2, 3, 4, 5]\n",
      "pop(2): [0, 2, 4, 5]\n"
     ]
    }
   ],
   "source": [
    "list_a = [0, 1, 2, 3, 4, 5]\n",
    "print(\"#리스트의 요소 하나 제거하기\")\n",
    "\n",
    "#제거 방법[1] - del 키워드\n",
    "del list_a[1]\n",
    "print(\"del list_a[1]:\", list_a)\n",
    "\n",
    "#제거 방법[2] - pop( )\n",
    "list_a.pop(2)\n",
    "print(\"pop(2):\",list_a)"
   ]
  },
  {
   "cell_type": "markdown",
   "metadata": {},
   "source": [
    "## 여기서 잠깐~\n",
    "### 리스트 슬라이싱\n",
    "\n",
    "> 슬라이싱\n",
    "- 리스트에 [:] 연산자로 리스트 범위를 지정하여 여러 요소를 선택\n",
    "\n",
    "### 슬라이싱 형태\n",
    "> 리스트[시작_인덱스 : 끝_인덱스 : 단계]\n"
   ]
  },
  {
   "cell_type": "code",
   "execution_count": 78,
   "metadata": {},
   "outputs": [
    {
     "data": {
      "text/plain": [
       "[0, 1, 2, 6]"
      ]
     },
     "execution_count": 78,
     "metadata": {},
     "output_type": "execute_result"
    }
   ],
   "source": [
    "list_b = [0, 1, 2, 3, 4, 5, 6]\n",
    "del list_b[3:6]\n",
    "list_b"
   ]
  },
  {
   "cell_type": "code",
   "execution_count": 96,
   "metadata": {},
   "outputs": [
    {
     "name": "stdout",
     "output_type": "stream",
     "text": [
      "[3, 4, 5, 6]\n",
      "[0, 1, 2]\n"
     ]
    }
   ],
   "source": [
    "list_c = [0, 1, 2, 3, 4, 5, 6]\n",
    "del list_c[:3]\n",
    "print(list_c)\n",
    "\n",
    "list_d = [0, 1, 2, 3, 4, 5, 6]\n",
    "del list_d[3:]\n",
    "print(list_d)"
   ]
  },
  {
   "cell_type": "code",
   "execution_count": 80,
   "metadata": {},
   "outputs": [
    {
     "name": "stdout",
     "output_type": "stream",
     "text": [
      "[1, 3, 5]\n",
      "[8, 7, 6, 5, 4, 3, 2, 1]\n"
     ]
    }
   ],
   "source": [
    "numbers = [1, 2, 3, 4, 5, 6, 7, 8]\n",
    "print(numbers[0:5:2])\n",
    "\n",
    "numbers_1 = [1, 2, 3, 4, 5, 6, 7, 8]\n",
    "print(numbers_1[::-1])"
   ]
  },
  {
   "cell_type": "markdown",
   "metadata": {},
   "source": [
    "### 값으로 제거하기\n",
    "\n",
    "#### 값을 지정해서 제거하는 것\n",
    "\n",
    "##### **remove( )**\n",
    "> 리스트.remove(갮)"
   ]
  },
  {
   "cell_type": "code",
   "execution_count": 81,
   "metadata": {},
   "outputs": [
    {
     "data": {
      "text/plain": [
       "[1, 1, 2]"
      ]
     },
     "execution_count": 81,
     "metadata": {},
     "output_type": "execute_result"
    }
   ],
   "source": [
    "list_c = [1, 2, 1, 2]\n",
    "list_c.remove(2)    #인덱스 2가 아닌 값 2 제거\n",
    "list_c      # 맨 앞 2 제거 후 출력"
   ]
  },
  {
   "cell_type": "markdown",
   "metadata": {},
   "source": [
    "### 모두 제거하기\n",
    "\n",
    "#### **clear( )** : 리스트 내부 요소 모두 제거\n",
    "\n",
    "> 리스트.clear( )"
   ]
  },
  {
   "cell_type": "code",
   "execution_count": 82,
   "metadata": {},
   "outputs": [
    {
     "data": {
      "text/plain": [
       "[]"
      ]
     },
     "execution_count": 82,
     "metadata": {},
     "output_type": "execute_result"
    }
   ],
   "source": [
    "list_d = [0, 1, 2, 3, 4, 5]\n",
    "list_d.clear()\n",
    "list_d"
   ]
  },
  {
   "cell_type": "markdown",
   "metadata": {},
   "source": [
    "### 리스트 정렬하기\n",
    "\n",
    "#### **sort( )** : 기본 오름차순 정렬\n",
    "\n",
    "> 리스트.sort( )"
   ]
  },
  {
   "cell_type": "code",
   "execution_count": 2,
   "metadata": {},
   "outputs": [
    {
     "name": "stdout",
     "output_type": "stream",
     "text": [
      "[1, 7, 32, 52, 103, 273, 275]\n",
      "[275, 273, 103, 52, 32, 7, 1]\n"
     ]
    }
   ],
   "source": [
    "list_e = [52, 273, 103, 32, 275, 1, 7]\n",
    "list_e.sort()\n",
    "print(list_e)\n",
    "\n",
    "list_e.sort(reverse=True)\n",
    "print(list_e)"
   ]
  },
  {
   "cell_type": "markdown",
   "metadata": {},
   "source": [
    "### 리스트 내부에 있는지 확인하기\n",
    "\n",
    "#### in/not in 연산자\n",
    "\n",
    "> 값 in 리스트\n",
    "\n",
    "> 값 not in 리스트"
   ]
  },
  {
   "cell_type": "code",
   "execution_count": 84,
   "metadata": {},
   "outputs": [
    {
     "name": "stdout",
     "output_type": "stream",
     "text": [
      "True\n",
      "False\n",
      "False\n",
      "True\n"
     ]
    }
   ],
   "source": [
    "list_a = [52, 273, 103, 32]\n",
    "print(273 in list_a)\n",
    "print(1000 in list_a)\n",
    "print(273 not in list_a)\n",
    "print(1000 not in list_a)\n"
   ]
  },
  {
   "cell_type": "markdown",
   "metadata": {},
   "source": [
    "## **for 반복문**"
   ]
  },
  {
   "cell_type": "code",
   "execution_count": 85,
   "metadata": {},
   "outputs": [
    {
     "name": "stdout",
     "output_type": "stream",
     "text": [
      "출력\n",
      "출력\n",
      "출력\n",
      "출력\n",
      "출력\n",
      "출력\n",
      "출력\n",
      "출력\n",
      "출력\n",
      "출력\n"
     ]
    }
   ],
   "source": [
    "for i in range(10):\n",
    "    print('출력')"
   ]
  },
  {
   "cell_type": "markdown",
   "metadata": {},
   "source": [
    "### for 반복문 : 리스트와 함께 사용하기\n",
    "\n",
    "> for 반복자 in 반복할 수 있는 것: <br> &nbsp;&nbsp;&nbsp;&nbsp; 코드"
   ]
  },
  {
   "cell_type": "code",
   "execution_count": 86,
   "metadata": {},
   "outputs": [
    {
     "name": "stdout",
     "output_type": "stream",
     "text": [
      "273\n",
      "32\n",
      "103\n",
      "57\n",
      "52\n"
     ]
    }
   ],
   "source": [
    "#리스트 선언\n",
    "array = [273, 32, 103, 57, 52]\n",
    "\n",
    "# 리스트에 반복문을 적용\n",
    "for element in array:\n",
    "    #출력\n",
    "    print(element)"
   ]
  },
  {
   "cell_type": "code",
   "execution_count": 87,
   "metadata": {},
   "outputs": [
    {
     "name": "stdout",
     "output_type": "stream",
     "text": [
      "- 안\n",
      "- 녕\n",
      "- 하\n",
      "- 세\n",
      "- 요\n"
     ]
    }
   ],
   "source": [
    "for character in \"안녕하세요\":\n",
    "    print(\"-\", character)"
   ]
  },
  {
   "cell_type": "markdown",
   "metadata": {},
   "source": [
    "### 중첩 리스트와 중첩 반복문\n",
    "\n",
    "- [1, 2, 3] - 1차원 리스트\n",
    "- [[1, 2, 3],[4, 5, 6]] - 2차원 리스트\n",
    "- [[[1, 2] 3],[4, 5, [6]]] -3차원 리스트\n",
    "\n",
    "#### n-차원 리스트 요소를 모두 확인하려면 반복문을 n번 중첩해야 함"
   ]
  },
  {
   "cell_type": "code",
   "execution_count": 88,
   "metadata": {},
   "outputs": [
    {
     "name": "stdout",
     "output_type": "stream",
     "text": [
      "1\n",
      "2\n",
      "3\n",
      "4\n",
      "5\n",
      "6\n",
      "7\n",
      "8\n",
      "9\n"
     ]
    }
   ],
   "source": [
    "list_of_list = [\n",
    "    [1, 2, 3],\n",
    "    [4, 5, 6, 7], \n",
    "    [8, 9]\n",
    "]\n",
    "\n",
    "for items in list_of_list:\n",
    "    for item in items:\n",
    "        print(item)"
   ]
  },
  {
   "cell_type": "code",
   "execution_count": 89,
   "metadata": {},
   "outputs": [
    {
     "name": "stdout",
     "output_type": "stream",
     "text": [
      "[1, 2, 3]\n",
      "[1, 2, 3]\n",
      "[1, 2, 3]\n",
      "[4, 5, 6, 7]\n",
      "[4, 5, 6, 7]\n",
      "[4, 5, 6, 7]\n",
      "[4, 5, 6, 7]\n",
      "[8, 9]\n",
      "[8, 9]\n"
     ]
    }
   ],
   "source": [
    "list_of_list = [\n",
    "    [1, 2, 3],\n",
    "    [4, 5, 6, 7], \n",
    "    [8, 9]\n",
    "]\n",
    "\n",
    "for items in list_of_list:\n",
    "    for item in items:\n",
    "        print(items)"
   ]
  },
  {
   "cell_type": "markdown",
   "metadata": {},
   "source": [
    "#### zom the Araboza\n",
    "\n",
    "## **전개 연산자**\n",
    "\n",
    "- *리스트 -> 리스트[0], 리스트[1], ...."
   ]
  },
  {
   "cell_type": "markdown",
   "metadata": {},
   "source": [
    "#### 1. 리스트 내부에 사용하는 경우"
   ]
  },
  {
   "cell_type": "code",
   "execution_count": 90,
   "metadata": {},
   "outputs": [
    {
     "name": "stdout",
     "output_type": "stream",
     "text": [
      "[[1, 2, 3, 4], [1, 2, 3, 4]]\n",
      "[1, 2, 3, 4, 1, 2, 3, 4]\n"
     ]
    }
   ],
   "source": [
    "a = [1, 2, 3, 4]\n",
    "b = [a, a]\n",
    "print(b)\n",
    "\n",
    "a = [1, 2, 3, 4]\n",
    "b = [*a, *a]\n",
    "print(b)"
   ]
  },
  {
   "cell_type": "code",
   "execution_count": 91,
   "metadata": {},
   "outputs": [
    {
     "name": "stdout",
     "output_type": "stream",
     "text": [
      "a = [1, 2, 3, 4, 5]\n",
      "b = [1, 2, 3, 4]\n",
      "c = [1, 2, 3, 4, 5]\n"
     ]
    }
   ],
   "source": [
    "# append( ) 함수\n",
    "a = [1, 2, 3, 4]\n",
    "a.append(5)\n",
    "print('a =', a) # -> a 내용 변경(파괴적)\n",
    "\n",
    "b = [1, 2, 3, 4]\n",
    "c = [*b, 5]\n",
    "print('b =',b) # -> b 내용 그대로(비파괴적)\n",
    "print('c =',c) # -> b 내용 + [5] "
   ]
  },
  {
   "cell_type": "markdown",
   "metadata": {},
   "source": [
    "#### 2. 함수 매개변수 위치에 사용하는 경우"
   ]
  },
  {
   "cell_type": "code",
   "execution_count": 1,
   "metadata": {},
   "outputs": [
    {
     "name": "stdout",
     "output_type": "stream",
     "text": [
      "1 2 3 4\n",
      "[1, 2, 3, 4]\n"
     ]
    }
   ],
   "source": [
    "a = [1, 2, 3, 4]\n",
    "print(*a)   # print(1, 2, 3, 4)처럼 동작\n",
    "print(a)"
   ]
  },
  {
   "cell_type": "markdown",
   "metadata": {},
   "source": [
    "### **for 반복문과 범위**\n",
    "\n",
    "> for 숫자 변수 in 범위: <br> &nbsp;&nbsp;&nbsp;&nbsp; 코드\n"
   ]
  }
 ],
 "metadata": {
  "kernelspec": {
   "display_name": "Python 3",
   "language": "python",
   "name": "python3"
  },
  "language_info": {
   "codemirror_mode": {
    "name": "ipython",
    "version": 3
   },
   "file_extension": ".py",
   "mimetype": "text/x-python",
   "name": "python",
   "nbconvert_exporter": "python",
   "pygments_lexer": "ipython3",
   "version": "3.11.4"
  },
  "orig_nbformat": 4
 },
 "nbformat": 4,
 "nbformat_minor": 2
}
