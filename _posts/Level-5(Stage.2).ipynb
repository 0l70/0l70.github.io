{
 "cells": [
  {
   "cell_type": "markdown",
   "metadata": {},
   "source": [
    "# **나 혼자만 파이썬 레벨업 5-2화**\n",
    "\n",
    "> **Lv.5**\n",
    ">> **이경민**"
   ]
  },
  {
   "cell_type": "markdown",
   "metadata": {},
   "source": [
    "### **재귀 함수**\n",
    "\n",
    "##### 팩토리얼(factorial)\n",
    "\n",
    "> n! = n * (n-1) * (n-2) * ... * 1\n",
    "\n",
    "- 반복문으로 팩토리얼 구하기\n",
    "\n",
    "- 재귀 함수로 팩토리얼 구하기"
   ]
  },
  {
   "cell_type": "markdown",
   "metadata": {},
   "source": [
    "#### **반복문으로 팩토리얼 구하기**"
   ]
  },
  {
   "cell_type": "code",
   "execution_count": 1,
   "metadata": {},
   "outputs": [
    {
     "name": "stdout",
     "output_type": "stream",
     "text": [
      "1! : 1\n",
      "2! : 2\n",
      "3! : 6\n",
      "4! : 24\n",
      "5! : 120\n"
     ]
    }
   ],
   "source": [
    "# 함수 선언\n",
    "def factorial(n):\n",
    "    # 변수 선언\n",
    "    output = 1\n",
    "    # 반복문 돌려 숫자를 더함\n",
    "    for i in range(1, n+1):\n",
    "        output *= i\n",
    "    # 리턴\n",
    "    return output\n",
    "\n",
    "# 함수 호출\n",
    "print('1! :', factorial(1))\n",
    "print('2! :', factorial(2))\n",
    "print('3! :', factorial(3))\n",
    "print('4! :', factorial(4))\n",
    "print('5! :', factorial(5))"
   ]
  },
  {
   "cell_type": "markdown",
   "metadata": {},
   "source": [
    "### **재귀 함수로 팩토리얼 구하기**\n",
    "\n",
    "##### 재귀(recursion) : '자기 자신을 호출하는 것'\n",
    "##### 원래는\n",
    "\n",
    "> n! = n * (n-1) * (n-2) * ... * 1\n",
    "\n",
    "##### 이렇게도 표현 가능\n",
    "> factorial(n) = n * factorial(n-1) (n >= 1 일 때)<br>factorial(0) = 1"
   ]
  },
  {
   "cell_type": "code",
   "execution_count": 2,
   "metadata": {},
   "outputs": [
    {
     "name": "stdout",
     "output_type": "stream",
     "text": [
      "1! : 1\n",
      "2! : 2\n",
      "3! : 6\n",
      "4! : 24\n",
      "5! : 120\n"
     ]
    }
   ],
   "source": [
    "# 재귀함수를 사용해 팩토리얼 구하기\n",
    "def factorial(n):\n",
    "    if n == 0:\n",
    "        return 1\n",
    "    # n이 0이 아니라면 n * (n-1)!을 리턴\n",
    "    else:\n",
    "        return n * factorial(n-1)\n",
    "# 함수 호출\n",
    "print('1! :', factorial(1))\n",
    "print('2! :', factorial(2))\n",
    "print('3! :', factorial(3))\n",
    "print('4! :', factorial(4))\n",
    "print('5! :', factorial(5))"
   ]
  },
  {
   "cell_type": "markdown",
   "metadata": {},
   "source": [
    "### **피보나치 수열**\n",
    "\n",
    "##### 토끼는 어떤 속도로 번식하는가"
   ]
  },
  {
   "cell_type": "code",
   "execution_count": 4,
   "metadata": {},
   "outputs": [
    {
     "name": "stdout",
     "output_type": "stream",
     "text": [
      "fibonacci(1) : 1\n",
      "fibonacci(2) : 1\n",
      "fibonacci(3) : 2\n",
      "fibonacci(4) : 3\n",
      "fibonacci(5) : 5\n"
     ]
    }
   ],
   "source": [
    "def fibonacci(n):\n",
    "    if n == 1:\n",
    "        return 1\n",
    "    if n == 2:\n",
    "        return 1\n",
    "    else:\n",
    "        return fibonacci(n - 1) + fibonacci(n - 2)\n",
    "\n",
    "print('fibonacci(1) :', fibonacci(1))\n",
    "print('fibonacci(2) :', fibonacci(2))\n",
    "print('fibonacci(3) :', fibonacci(3))\n",
    "print('fibonacci(4) :', fibonacci(4))\n",
    "print('fibonacci(5) :', fibonacci(5))"
   ]
  },
  {
   "cell_type": "code",
   "execution_count": 5,
   "metadata": {},
   "outputs": [
    {
     "name": "stdout",
     "output_type": "stream",
     "text": [
      "fibonacci(10)를 구합니다.\n",
      "fibonacci(9)를 구합니다.\n",
      "fibonacci(8)를 구합니다.\n",
      "fibonacci(7)를 구합니다.\n",
      "fibonacci(6)를 구합니다.\n",
      "fibonacci(5)를 구합니다.\n",
      "fibonacci(4)를 구합니다.\n",
      "fibonacci(3)를 구합니다.\n",
      "fibonacci(2)를 구합니다.\n",
      "fibonacci(1)를 구합니다.\n",
      "fibonacci(2)를 구합니다.\n",
      "fibonacci(3)를 구합니다.\n",
      "fibonacci(2)를 구합니다.\n",
      "fibonacci(1)를 구합니다.\n",
      "fibonacci(4)를 구합니다.\n",
      "fibonacci(3)를 구합니다.\n",
      "fibonacci(2)를 구합니다.\n",
      "fibonacci(1)를 구합니다.\n",
      "fibonacci(2)를 구합니다.\n",
      "fibonacci(5)를 구합니다.\n",
      "fibonacci(4)를 구합니다.\n",
      "fibonacci(3)를 구합니다.\n",
      "fibonacci(2)를 구합니다.\n",
      "fibonacci(1)를 구합니다.\n",
      "fibonacci(2)를 구합니다.\n",
      "fibonacci(3)를 구합니다.\n",
      "fibonacci(2)를 구합니다.\n",
      "fibonacci(1)를 구합니다.\n",
      "fibonacci(6)를 구합니다.\n",
      "fibonacci(5)를 구합니다.\n",
      "fibonacci(4)를 구합니다.\n",
      "fibonacci(3)를 구합니다.\n",
      "fibonacci(2)를 구합니다.\n",
      "fibonacci(1)를 구합니다.\n",
      "fibonacci(2)를 구합니다.\n",
      "fibonacci(3)를 구합니다.\n",
      "fibonacci(2)를 구합니다.\n",
      "fibonacci(1)를 구합니다.\n",
      "fibonacci(4)를 구합니다.\n",
      "fibonacci(3)를 구합니다.\n",
      "fibonacci(2)를 구합니다.\n",
      "fibonacci(1)를 구합니다.\n",
      "fibonacci(2)를 구합니다.\n",
      "fibonacci(7)를 구합니다.\n",
      "fibonacci(6)를 구합니다.\n",
      "fibonacci(5)를 구합니다.\n",
      "fibonacci(4)를 구합니다.\n",
      "fibonacci(3)를 구합니다.\n",
      "fibonacci(2)를 구합니다.\n",
      "fibonacci(1)를 구합니다.\n",
      "fibonacci(2)를 구합니다.\n",
      "fibonacci(3)를 구합니다.\n",
      "fibonacci(2)를 구합니다.\n",
      "fibonacci(1)를 구합니다.\n",
      "fibonacci(4)를 구합니다.\n",
      "fibonacci(3)를 구합니다.\n",
      "fibonacci(2)를 구합니다.\n",
      "fibonacci(1)를 구합니다.\n",
      "fibonacci(2)를 구합니다.\n",
      "fibonacci(5)를 구합니다.\n",
      "fibonacci(4)를 구합니다.\n",
      "fibonacci(3)를 구합니다.\n",
      "fibonacci(2)를 구합니다.\n",
      "fibonacci(1)를 구합니다.\n",
      "fibonacci(2)를 구합니다.\n",
      "fibonacci(3)를 구합니다.\n",
      "fibonacci(2)를 구합니다.\n",
      "fibonacci(1)를 구합니다.\n",
      "fibonacci(8)를 구합니다.\n",
      "fibonacci(7)를 구합니다.\n",
      "fibonacci(6)를 구합니다.\n",
      "fibonacci(5)를 구합니다.\n",
      "fibonacci(4)를 구합니다.\n",
      "fibonacci(3)를 구합니다.\n",
      "fibonacci(2)를 구합니다.\n",
      "fibonacci(1)를 구합니다.\n",
      "fibonacci(2)를 구합니다.\n",
      "fibonacci(3)를 구합니다.\n",
      "fibonacci(2)를 구합니다.\n",
      "fibonacci(1)를 구합니다.\n",
      "fibonacci(4)를 구합니다.\n",
      "fibonacci(3)를 구합니다.\n",
      "fibonacci(2)를 구합니다.\n",
      "fibonacci(1)를 구합니다.\n",
      "fibonacci(2)를 구합니다.\n",
      "fibonacci(5)를 구합니다.\n",
      "fibonacci(4)를 구합니다.\n",
      "fibonacci(3)를 구합니다.\n",
      "fibonacci(2)를 구합니다.\n",
      "fibonacci(1)를 구합니다.\n",
      "fibonacci(2)를 구합니다.\n",
      "fibonacci(3)를 구합니다.\n",
      "fibonacci(2)를 구합니다.\n",
      "fibonacci(1)를 구합니다.\n",
      "fibonacci(6)를 구합니다.\n",
      "fibonacci(5)를 구합니다.\n",
      "fibonacci(4)를 구합니다.\n",
      "fibonacci(3)를 구합니다.\n",
      "fibonacci(2)를 구합니다.\n",
      "fibonacci(1)를 구합니다.\n",
      "fibonacci(2)를 구합니다.\n",
      "fibonacci(3)를 구합니다.\n",
      "fibonacci(2)를 구합니다.\n",
      "fibonacci(1)를 구합니다.\n",
      "fibonacci(4)를 구합니다.\n",
      "fibonacci(3)를 구합니다.\n",
      "fibonacci(2)를 구합니다.\n",
      "fibonacci(1)를 구합니다.\n",
      "fibonacci(2)를 구합니다.\n",
      "---\n",
      "fibonacci(10) 계산에 활용된 덧셈 횟수는 109번입니다.\n"
     ]
    }
   ],
   "source": [
    "# 변수 선언\n",
    "counter = 0\n",
    "\n",
    "# 함수 선언\n",
    "def fibonacci(n):\n",
    "    # 어떤 피보나치 수를 구하는지 출력\n",
    "    print('fibonacci({})를 구합니다.'.format(n))\n",
    "    global counter\n",
    "    counter += 1\n",
    "    # 피보나치 수를 구하기\n",
    "    if n == 1:\n",
    "        return 1\n",
    "    if n == 2:\n",
    "        return 1\n",
    "    else:\n",
    "        return fibonacci(n - 1) + fibonacci(n - 2)\n",
    "\n",
    "# 함수 호출\n",
    "fibonacci(10)\n",
    "print('---')\n",
    "print('fibonacci(10) 계산에 활용된 덧셈 횟수는 {}번입니다.'.format(counter))"
   ]
  },
  {
   "cell_type": "markdown",
   "metadata": {},
   "source": [
    "#### **트리(tree)**\n",
    "#### **노드(node)** - 트리에 있는 각각의 지점\n",
    "#### **리프(leaf)** - 노드 중에 가장 마지막 단계의 노드"
   ]
  },
  {
   "cell_type": "markdown",
   "metadata": {},
   "source": [
    "### **참조(reference)** - 변수에 접근하는 것\n",
    "\n",
    "##### 파이썬은 함수 내부에서 함수 외부에 있는 변수를 참조하지 못한다.\n",
    "\n",
    "#### **global 키워드**\n",
    "\n",
    "> global 변수 이름\n",
    "\n",
    "#### W0621 오류나면 global 키워드 써야 됨"
   ]
  },
  {
   "cell_type": "markdown",
   "metadata": {},
   "source": [
    "### **재귀 함수의 문제**\n",
    "\n",
    "#### **메모화**\n",
    "\n",
    "#### **메모** - 딕셔너리를 사용해서 한 번 계산한 값을 저장\n",
    "\n",
    "- 코드 속도 빨라짐"
   ]
  },
  {
   "cell_type": "code",
   "execution_count": 6,
   "metadata": {},
   "outputs": [
    {
     "name": "stdout",
     "output_type": "stream",
     "text": [
      "fibonacci(10) : 55\n",
      "fibonacci(20) : 6765\n",
      "fibonacci(30) : 832040\n",
      "fibonacci(40) : 102334155\n",
      "fibonacci(50) : 12586269025\n"
     ]
    }
   ],
   "source": [
    "# 메모 변수 생성\n",
    "dictionary = {\n",
    "    1: 1,\n",
    "    2: 1\n",
    "}\n",
    "\n",
    "# 함수 선언\n",
    "def fibonacci(n):\n",
    "    if n in dictionary:\n",
    "        # 메모가 되어 있으면 메모된 값을 리턴\n",
    "        return dictionary[n]\n",
    "    else:\n",
    "        # 메모가 되어 있지 않으면 값을 구함\n",
    "        output = fibonacci(n - 1) + fibonacci(n - 2)\n",
    "        dictionary[n] = output\n",
    "        return output\n",
    "\n",
    "# 함수 호출\n",
    "print('fibonacci(10) :', fibonacci(10))\n",
    "print('fibonacci(20) :', fibonacci(20))\n",
    "print('fibonacci(30) :', fibonacci(30))\n",
    "print('fibonacci(40) :', fibonacci(40))\n",
    "print('fibonacci(50) :', fibonacci(50))"
   ]
  },
  {
   "cell_type": "markdown",
   "metadata": {},
   "source": [
    "### **조기 리턴**"
   ]
  },
  {
   "cell_type": "code",
   "execution_count": 9,
   "metadata": {},
   "outputs": [],
   "source": [
    "def fibonacci(n):\n",
    "    if n in dictionary:\n",
    "        return dictionary[n]\n",
    "    #else: 조기 리턴 슝슝\n",
    "    output = fibonacci(n - 1) + fibonacci(n - 2)\n",
    "    dictionary[n] = output\n",
    "    return output"
   ]
  },
  {
   "cell_type": "markdown",
   "metadata": {},
   "source": [
    "\n",
    "### **리스트 평탄화하는 재귀 함수 만들기**\n",
    "##### <u>리스트 평탄화</u>\n",
    "- 리스트 평탄화 : 중첩된 리스트를 중첩을 제거하고 풀어서 1차원 리스트로 만드는 것"
   ]
  },
  {
   "cell_type": "code",
   "execution_count": 10,
   "metadata": {},
   "outputs": [
    {
     "ename": "IndentationError",
     "evalue": "expected an indented block after 'if' statement on line 4 (2858075624.py, line 6)",
     "output_type": "error",
     "traceback": [
      "\u001b[0;36m  Cell \u001b[0;32mIn[10], line 6\u001b[0;36m\u001b[0m\n\u001b[0;31m    else:\u001b[0m\n\u001b[0m    ^\u001b[0m\n\u001b[0;31mIndentationError\u001b[0m\u001b[0;31m:\u001b[0m expected an indented block after 'if' statement on line 4\n"
     ]
    }
   ],
   "source": [
    "def flatten(data):\n",
    "    output = []\n",
    "    for item in data:\n",
    "        if type(item) == list:\n",
    "        \n",
    "        else:\n",
    "            output.append(item)\n",
    "    return output"
   ]
  },
  {
   "cell_type": "code",
   "execution_count": 12,
   "metadata": {},
   "outputs": [
    {
     "name": "stdout",
     "output_type": "stream",
     "text": [
      "원본 : [[1, 2, 3], [4, [5, 6]], 7, [8, 9]]\n",
      "변환 : [1, 2, 3, 4, [5, 6], 7, 8, 9]\n"
     ]
    }
   ],
   "source": [
    "# 1\n",
    "def flatten(data):\n",
    "    output = []\n",
    "    for item in data:\n",
    "        if type(item) == list:\n",
    "            output += item\n",
    "        else:\n",
    "            output.append(item)\n",
    "    return output\n",
    "\n",
    "example = [[1, 2, 3], [4, [5, 6]], 7, [8, 9]]\n",
    "print('원본 :', example)\n",
    "print('변환 :', flatten(example))"
   ]
  },
  {
   "cell_type": "code",
   "execution_count": 13,
   "metadata": {},
   "outputs": [
    {
     "name": "stdout",
     "output_type": "stream",
     "text": [
      "원본 : [[1, 2, 3], [4, [5, 6]], 7, [8, 9]]\n",
      "변환 : [1, 2, 3, 4, 5, 6, 7, 8, 9]\n"
     ]
    }
   ],
   "source": [
    "# 2\n",
    "def flatten(data):\n",
    "    output = []\n",
    "    for item in data:\n",
    "        if type(item) == list:\n",
    "            output += flatten(item)\n",
    "        else:\n",
    "            output.append(item)\n",
    "    return output\n",
    "\n",
    "example = [[1, 2, 3], [4, [5, 6]], 7, [8, 9]]\n",
    "print('원본 :', example)\n",
    "print('변환 :', flatten(example))"
   ]
  },
  {
   "cell_type": "markdown",
   "metadata": {},
   "source": [
    "### **코드에 이름 붙이기**"
   ]
  },
  {
   "cell_type": "markdown",
   "metadata": {},
   "source": [
    "##### 함수를 활용한 코드"
   ]
  },
  {
   "cell_type": "code",
   "execution_count": 16,
   "metadata": {},
   "outputs": [
    {
     "name": "stdout",
     "output_type": "stream",
     "text": [
      "62.800000000000004\n",
      "314.0\n"
     ]
    }
   ],
   "source": [
    "# 함수 정의\n",
    "def number_input():\n",
    "    output = input('숫자 입력 > ')\n",
    "    return float(output)\n",
    "def get_circumference(radius):\n",
    "    return 2 * 3.14 * radius\n",
    "def get_circle_area(radius):\n",
    "    return 3.14 * radius * radius\n",
    "\n",
    "# 코드 본문\n",
    "radius = number_input()\n",
    "print(get_circumference(radius))\n",
    "print(get_circle_area(radius))"
   ]
  }
 ],
 "metadata": {
  "kernelspec": {
   "display_name": "Python 3",
   "language": "python",
   "name": "python3"
  },
  "language_info": {
   "codemirror_mode": {
    "name": "ipython",
    "version": 3
   },
   "file_extension": ".py",
   "mimetype": "text/x-python",
   "name": "python",
   "nbconvert_exporter": "python",
   "pygments_lexer": "ipython3",
   "version": "3.11.4"
  },
  "orig_nbformat": 4
 },
 "nbformat": 4,
 "nbformat_minor": 2
}
