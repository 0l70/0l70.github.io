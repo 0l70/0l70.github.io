{
 "cells": [
  {
   "cell_type": "markdown",
   "metadata": {},
   "source": [
    "# **나 혼자만 파이썬 레벨업 6-1화**\n",
    "\n",
    "> **Lv.6**\n",
    ">> **이경민**"
   ]
  },
  {
   "cell_type": "markdown",
   "metadata": {},
   "source": [
    "### **오류** - 송유정 특기\n",
    "\n",
    "##### **구문 오류(syntax error)**\n",
    "- 프로그램 실행 전에 발생하는 오류\n",
    "##### **예외(exception)** 또는 **런타임 오류(runtime error)**\n",
    "- 프로그램 실행 중에 발생하는 오류"
   ]
  },
  {
   "cell_type": "markdown",
   "metadata": {},
   "source": [
    "### **구문 오류(syntax error)**\n",
    "- 괄호의 개수, 들여쓰기 문제 등"
   ]
  },
  {
   "cell_type": "code",
   "execution_count": 1,
   "metadata": {},
   "outputs": [
    {
     "ename": "SyntaxError",
     "evalue": "unterminated string literal (detected at line 5) (2678846010.py, line 5)",
     "output_type": "error",
     "traceback": [
      "\u001b[0;36m  Cell \u001b[0;32mIn[1], line 5\u001b[0;36m\u001b[0m\n\u001b[0;31m    print(\"# 예외를 강제로 발생시켜 볼게요!)\u001b[0m\n\u001b[0m          ^\u001b[0m\n\u001b[0;31mSyntaxError\u001b[0m\u001b[0;31m:\u001b[0m unterminated string literal (detected at line 5)\n"
     ]
    }
   ],
   "source": [
    "#프로그램 시작\n",
    "print(\"# 프로그램이 시작되었습니다!\")\n",
    "\n",
    "# 구문 오류 발생 코드\n",
    "print(\"# 예외를 강제로 발생시켜 볼게요!)"
   ]
  },
  {
   "cell_type": "markdown",
   "metadata": {},
   "source": [
    "#### SyntaxError\n",
    "##### 구문에 문제가 있어 프로그램이 실행조차 되지 않는 오류\n",
    "##### 닫는 따옴표로 문자열을 닫지 않음"
   ]
  },
  {
   "cell_type": "markdown",
   "metadata": {},
   "source": [
    "### **예외(exception)**\n",
    "\n",
    "- 예외 또는 런타임 오류는 실행 중에 발생하는 오류를 의미"
   ]
  },
  {
   "cell_type": "code",
   "execution_count": 2,
   "metadata": {},
   "outputs": [
    {
     "name": "stdout",
     "output_type": "stream",
     "text": [
      "# 프로그램이 시작되었습니다!\n"
     ]
    },
    {
     "ename": "NameError",
     "evalue": "name 'list_a' is not defined",
     "output_type": "error",
     "traceback": [
      "\u001b[0;31m---------------------------------------------------------------------------\u001b[0m",
      "\u001b[0;31mNameError\u001b[0m                                 Traceback (most recent call last)",
      "Cell \u001b[0;32mIn[2], line 5\u001b[0m\n\u001b[1;32m      2\u001b[0m \u001b[39mprint\u001b[39m(\u001b[39m\"\u001b[39m\u001b[39m# 프로그램이 시작되었습니다!\u001b[39m\u001b[39m\"\u001b[39m)\n\u001b[1;32m      4\u001b[0m \u001b[39m# 예외 발생 코드\u001b[39;00m\n\u001b[0;32m----> 5\u001b[0m list_a[\u001b[39m1\u001b[39m]\n",
      "\u001b[0;31mNameError\u001b[0m: name 'list_a' is not defined"
     ]
    }
   ],
   "source": [
    "#프로그램 시작\n",
    "print(\"# 프로그램이 시작되었습니다!\")\n",
    "\n",
    "# 예외 발생 코드\n",
    "list_a[1]"
   ]
  },
  {
   "cell_type": "markdown",
   "metadata": {},
   "source": [
    "### NameError\n",
    "##### **예외** 또는 **런타임 오류**\n",
    "- 실행 중에 발생하는 오류"
   ]
  },
  {
   "cell_type": "markdown",
   "metadata": {},
   "source": [
    "### **기본 예외 처리**\n",
    "##### **예외 처리(exception handling)**\n",
    "- 조건문을 사용하는 방법\n",
    "- try 구문을 사용하는 방법\n",
    "##### 구문 오류는 프로그램이 실행조차 되지 않기 때문에 예외 처리 방법으로 처리할 수 없다. <br>문법 문제가 발생한 코드 수정해야 됨"
   ]
  },
  {
   "cell_type": "markdown",
   "metadata": {},
   "source": [
    "### **예외가 발생할 수 있는 코드**"
   ]
  },
  {
   "cell_type": "code",
   "execution_count": 3,
   "metadata": {},
   "outputs": [
    {
     "ename": "ValueError",
     "evalue": "invalid literal for int() with base 10: 'ㅋㅋ'",
     "output_type": "error",
     "traceback": [
      "\u001b[0;31m---------------------------------------------------------------------------\u001b[0m",
      "\u001b[0;31mValueError\u001b[0m                                Traceback (most recent call last)",
      "Cell \u001b[0;32mIn[3], line 1\u001b[0m\n\u001b[0;32m----> 1\u001b[0m number_input_a \u001b[39m=\u001b[39m \u001b[39mint\u001b[39;49m(\u001b[39minput\u001b[39;49m(\u001b[39m'\u001b[39;49m\u001b[39m정수 입력 > \u001b[39;49m\u001b[39m'\u001b[39;49m))\n\u001b[1;32m      3\u001b[0m \u001b[39mprint\u001b[39m(\u001b[39m'\u001b[39m\u001b[39m원의 반지름 :\u001b[39m\u001b[39m'\u001b[39m, number_input_a)\n\u001b[1;32m      4\u001b[0m \u001b[39mprint\u001b[39m(\u001b[39m'\u001b[39m\u001b[39m원의 둘레 :\u001b[39m\u001b[39m'\u001b[39m, \u001b[39m2\u001b[39m \u001b[39m*\u001b[39m \u001b[39m3.14\u001b[39m \u001b[39m*\u001b[39mnumber_input_a)\n",
      "\u001b[0;31mValueError\u001b[0m: invalid literal for int() with base 10: 'ㅋㅋ'"
     ]
    }
   ],
   "source": [
    "number_input_a = int(input('정수 입력 > '))\n",
    "\n",
    "print('원의 반지름 :', number_input_a)\n",
    "print('원의 둘레 :', 2 * 3.14 *number_input_a)\n",
    "print('원의 넓이 :', 3.14 * number_input_a * number_input_a)"
   ]
  },
  {
   "cell_type": "markdown",
   "metadata": {},
   "source": [
    "### **조건문으로 예외 처리하기**\n",
    "\n",
    "##### 정수를 입력하지 않았을 때 해결\n",
    "##### isdigit( ) 함수를 사용"
   ]
  },
  {
   "cell_type": "code",
   "execution_count": 4,
   "metadata": {},
   "outputs": [
    {
     "name": "stdout",
     "output_type": "stream",
     "text": [
      "어이 잠깐, 정수를 입력하지 않았다 애송이\n"
     ]
    }
   ],
   "source": [
    "user_input_a = input('정수 입력 >')\n",
    "\n",
    "# 사용자 입력이 숫자로만 구성되어 있을 때\n",
    "if user_input_a.isdigit():\n",
    "    # 숫자로 변환합니다.\n",
    "    number_input_a = int(user_input_a)\n",
    "    # 출력합니다.\n",
    "\n",
    "    print('원의 반지름 :', number_input_a)\n",
    "    print('원의 둘레 :', 2 * 3.14 *number_input_a)\n",
    "    print('원의 넓이 :', 3.14 * number_input_a * number_input_a)    \n",
    "else:\n",
    "    print('어이 잠깐, 정수를 입력하지 않았다 애송이')\n"
   ]
  },
  {
   "cell_type": "markdown",
   "metadata": {},
   "source": [
    "### **try except 구문**\n",
    "\n",
    "> try:<br>&#160;&#160;&#160;&#160;&#160;&#160;&#160;<u>예외가 발생할 가능성이 있는 코드</u><br>except:<br>&#160;&#160;&#160;&#160;&#160;&#160;&#160;<u>예외가 발생했을 때 실행할 코드</u>"
   ]
  },
  {
   "cell_type": "code",
   "execution_count": 6,
   "metadata": {},
   "outputs": [
    {
     "name": "stdout",
     "output_type": "stream",
     "text": [
      "어이 잠깐, 뭔가 이상하군\n"
     ]
    }
   ],
   "source": [
    "# try except 구문으로 예외 처리\n",
    "try:\n",
    "    # 숫자 변환\n",
    "    number_input_a = int(input('정수 입력 >'))\n",
    "    # 출력\n",
    "    print('원의 반지름 :', number_input_a)\n",
    "    print('원의 둘레 :', 2 * 3.14 *number_input_a)\n",
    "    print('원의 넓이 :', 3.14 * number_input_a * number_input_a)\n",
    "except:\n",
    "    print('어이 잠깐, 뭔가 이상하군')"
   ]
  },
  {
   "cell_type": "markdown",
   "metadata": {},
   "source": [
    "### try except 구문과 pass 키워드 \n",
    "##### **pass 키워드**\n",
    "> try:<br>&#160;&#160;&#160;&#160;&#160;&#160;&#160;<u>예외가 발생할 가능성이 있는 코드</u><br>except:<br>&#160;&#160;&#160;&#160;&#160;&#160;&#160;<u>pass</u>"
   ]
  },
  {
   "cell_type": "code",
   "execution_count": 7,
   "metadata": {},
   "outputs": [
    {
     "name": "stdout",
     "output_type": "stream",
     "text": [
      "['52', '273', '32', '스파이', '103'] 내부에 있는 숫자는\n",
      "['52', '273', '32', '103']입니다.\n"
     ]
    }
   ],
   "source": [
    "# 변수 선언\n",
    "list_input_a = ['52', '273', '32', '스파이', '103']\n",
    "\n",
    "# 반복을 적용\n",
    "list_number = []\n",
    "for item in list_input_a:\n",
    "    # 숫자로 변환해서 리스트에 추가\n",
    "    try:\n",
    "        float(item)\n",
    "        list_number.append(item)\n",
    "    except:\n",
    "        pass\n",
    "# 출력\n",
    "print('{} 내부에 있는 숫자는'.format(list_input_a))\n",
    "print('{}입니다.'.format(list_number))"
   ]
  },
  {
   "cell_type": "markdown",
   "metadata": {},
   "source": [
    "### **try except else**\n",
    "\n",
    "> try:<br>&#160;&#160;&#160;&#160;&#160;&#160;&#160;<u>예외가 발생할 가능성이 있는 코드</u><br>except:<br>&#160;&#160;&#160;&#160;&#160;&#160;&#160;<u>예외가 발생했을 때 실행할 코드</u><br>else:<br>&#160;&#160;&#160;&#160;&#160;&#160;&#160;<u>예외가 발생하지 않았을 때 실행할 코드</u>"
   ]
  },
  {
   "cell_type": "code",
   "execution_count": 9,
   "metadata": {},
   "outputs": [
    {
     "name": "stdout",
     "output_type": "stream",
     "text": [
      "어이어이 정수 입력은 어디갔냐구\n"
     ]
    }
   ],
   "source": [
    "# try except else 구문으로 예외 처리\n",
    "try:\n",
    "    # 숫자 변환\n",
    "    number_input_a = int(input('정수 입력 >'))\n",
    "except:\n",
    "    print('어이어이 정수 입력은 어디갔냐구')\n",
    "else:\n",
    "    # 출력\n",
    "    print('원의 반지름 :', number_input_a)\n",
    "    print('원의 둘레 :', 2 * 3.14 *number_input_a)\n",
    "    print('원의 넓이 :', 3.14 * number_input_a * number_input_a)"
   ]
  },
  {
   "cell_type": "markdown",
   "metadata": {},
   "source": [
    "### **finally 구문**\n",
    "> try:<br>&#160;&#160;&#160;&#160;&#160;&#160;&#160;<u>예외가 발생할 가능성이 있는 코드</u><br>except:<br>&#160;&#160;&#160;&#160;&#160;&#160;&#160;<u>예외가 발생했을 때 실행할 코드</u><br>else:<br>&#160;&#160;&#160;&#160;&#160;&#160;&#160;<u>예외가 발생하지 않았을 때 실행할 코드</u><br>finally:<br>&#160;&#160;&#160;&#160;&#160;&#160;&#160;<u>무조건 실행할 코드</u>    "
   ]
  },
  {
   "cell_type": "code",
   "execution_count": 1,
   "metadata": {},
   "outputs": [
    {
     "name": "stdout",
     "output_type": "stream",
     "text": [
      "어이어이 정수 입력은 어디갔냐구\n",
      "일단 프로그램이 어떻게든 끝났다\n"
     ]
    }
   ],
   "source": [
    "# try except 구문으로 예외 처리\n",
    "try:\n",
    "    # 숫자 변환\n",
    "    number_input_a = int(input('정수 입력 >'))\n",
    "    # 출력\n",
    "    print('원의 반지름 :', number_input_a)\n",
    "    print('원의 둘레 :', 2 * 3.14 *number_input_a)\n",
    "    print('원의 넓이 :', 3.14 * number_input_a * number_input_a)\n",
    "except:\n",
    "    print('어이어이 정수 입력은 어디갔냐구')\n",
    "else:\n",
    "    print('예외 발생')\n",
    "finally:\n",
    "    print('일단 프로그램이 어떻게든 끝났다')\n",
    "\n"
   ]
  },
  {
   "cell_type": "markdown",
   "metadata": {},
   "source": [
    "### **try, except, finally 구문의 조합**\n",
    "\n",
    "##### - try 구문은 혼자 쓸 수 없고, 반드시 except구문 또는 finally 구문과 함께 써야 한다.\n",
    "##### - else 구문은 반드시 except 구문 뒤에 사용해야한다.\n",
    "\n",
    "- try + except 구문 조합\n",
    "- try + except + else 구문 조합\n",
    "- try + except + finally 구문 조합\n",
    "- try + except + else +finally 구문 조합\n",
    "- try + finally 구문 조합"
   ]
  },
  {
   "cell_type": "markdown",
   "metadata": {},
   "source": [
    "##### 파일이 제대로 닫혔는지 확인하기"
   ]
  },
  {
   "cell_type": "code",
   "execution_count": 1,
   "metadata": {},
   "outputs": [
    {
     "name": "stdout",
     "output_type": "stream",
     "text": [
      "# 파일이 제대로 닫혔는지 확인\n",
      "file.closed : True\n"
     ]
    }
   ],
   "source": [
    "# try except 구문 사용\n",
    "try:\n",
    "    # 파일 열기\n",
    "    file = open('info.txt', 'w')\n",
    "    # 여러 가지 처리 수행\n",
    "    # 파일 닫기\n",
    "    file.close()\n",
    "except:\n",
    "    print('으아아 공습경보~ 공습경보~')\n",
    "print('# 파일이 제대로 닫혔는지 확인')\n",
    "print('file.closed :', file.closed)"
   ]
  },
  {
   "cell_type": "markdown",
   "metadata": {},
   "source": [
    "##### 예외 발생"
   ]
  },
  {
   "cell_type": "code",
   "execution_count": 2,
   "metadata": {},
   "outputs": [
    {
     "name": "stdout",
     "output_type": "stream",
     "text": [
      "으아아 공습경보~ 공습경보~\n",
      "# 파일이 제대로 닫혔는지 확인\n",
      "file.closed : False\n"
     ]
    }
   ],
   "source": [
    "# try except 구문 사용\n",
    "try:\n",
    "    # 파일 열기\n",
    "    file = open('info.txt', 'w')\n",
    "    # 여러 가지 처리 수행\n",
    "    공습.경보()\n",
    "    # 파일 닫기\n",
    "    file.close()\n",
    "except:\n",
    "    print('으아아 공습경보~ 공습경보~')\n",
    "print('# 파일이 제대로 닫혔는지 확인')\n",
    "print('file.closed :', file.closed)"
   ]
  },
  {
   "cell_type": "markdown",
   "metadata": {},
   "source": [
    "##### finally 이용해서 파일 닫기"
   ]
  },
  {
   "cell_type": "code",
   "execution_count": 4,
   "metadata": {},
   "outputs": [
    {
     "name": "stdout",
     "output_type": "stream",
     "text": [
      "으아아 공습경보~ 공습경보~\n",
      "# 파일이 제대로 닫혔는지 확인\n",
      "file.closed : True\n"
     ]
    }
   ],
   "source": [
    "# try except 구문 사용\n",
    "try:\n",
    "    # 파일 열기\n",
    "    file = open('info.txt', 'w')\n",
    "    # 여러 가지 처리 수행\n",
    "    공습.경보()\n",
    "except:\n",
    "    print('으아아 공습경보~ 공습경보~')\n",
    "finally:\n",
    "    file.close()\n",
    "\n",
    "print('# 파일이 제대로 닫혔는지 확인')\n",
    "print('file.closed :', file.closed)"
   ]
  },
  {
   "cell_type": "markdown",
   "metadata": {},
   "source": [
    "##### try except 구문이 끝난 후 파일 닫기"
   ]
  },
  {
   "cell_type": "code",
   "execution_count": 5,
   "metadata": {},
   "outputs": [
    {
     "name": "stdout",
     "output_type": "stream",
     "text": [
      "으아아 공습경보~ 공습경보~\n",
      "# 파일이 제대로 닫혔는지 확인\n",
      "file.closed : True\n"
     ]
    }
   ],
   "source": [
    "# try except 구문 사용\n",
    "try:\n",
    "    # 파일 열기\n",
    "    file = open('info.txt', 'w')\n",
    "    # 여러 가지 처리 수행\n",
    "    공습.경보()\n",
    "except:\n",
    "    print('으아아 공습경보~ 공습경보~')\n",
    "\n",
    "file.close()\n",
    "print('# 파일이 제대로 닫혔는지 확인')\n",
    "print('file.closed :', file.closed)"
   ]
  },
  {
   "cell_type": "markdown",
   "metadata": {},
   "source": [
    "##### try 구문 내부에서 return 키워드를 사용하는 경우\n",
    "- finally 구문은 반복문 또는 함수 내부에 있을 때 위럭을 발휘휘~"
   ]
  },
  {
   "cell_type": "code",
   "execution_count": 6,
   "metadata": {},
   "outputs": [
    {
     "name": "stdout",
     "output_type": "stream",
     "text": [
      "test() 함수의 첫 줄쓰\n",
      "try 구문이 실행됨\n",
      "finally 구문이 실행됨\n"
     ]
    }
   ],
   "source": [
    "# test() 함수 선언\n",
    "def test():\n",
    "    print('test() 함수의 첫 줄쓰')\n",
    "    try:\n",
    "        print('try 구문이 실행됨')\n",
    "        return\n",
    "        print('try 구문의 return 키워드 뒤')\n",
    "    except:\n",
    "        print('except 구문 실행됨')\n",
    "    else:\n",
    "        print('else 구문이 실행됨')\n",
    "    finally:\n",
    "        print('finally 구문이 실행됨')\n",
    "    print('test() 함수의 마지막 줄쓰')\n",
    "\n",
    "test()"
   ]
  },
  {
   "cell_type": "markdown",
   "metadata": {},
   "source": [
    "##### finally 키워드 활용"
   ]
  },
  {
   "cell_type": "code",
   "execution_count": 7,
   "metadata": {},
   "outputs": [],
   "source": [
    "# 함수 선언\n",
    "def write_text_file(filename, text):\n",
    "    try:\n",
    "        # 파일 열기\n",
    "        file = open(filename, 'w')\n",
    "        # 여러 가지 처리 수행\n",
    "        return\n",
    "        # 파일에 텍스트 입력\n",
    "        file.write(text)\n",
    "    except:\n",
    "        print('오류 발생')\n",
    "    finally:\n",
    "        # 파일 닫기\n",
    "        file.close()\n",
    "\n",
    "# 함수 호출\n",
    "write_text_file('test.txt', '안녕')"
   ]
  },
  {
   "cell_type": "markdown",
   "metadata": {},
   "source": [
    "### <u>반복문과 함께 사용하는 경우</u>\n",
    "\n",
    "##### finally 구문은 무조건 실행 - 반복문에서 break로 빠져나갈 때도 같다."
   ]
  },
  {
   "cell_type": "code",
   "execution_count": 8,
   "metadata": {},
   "outputs": [
    {
     "name": "stdout",
     "output_type": "stream",
     "text": [
      "프로그램 시작\n",
      "try 구문이 실행됨\n",
      "finally 구문이 실행됨\n",
      "프로그램 종료\n"
     ]
    }
   ],
   "source": [
    "print('프로그램 시작')\n",
    "\n",
    "while True:    \n",
    "    try:\n",
    "        print('try 구문이 실행됨')\n",
    "        break\n",
    "        print('try 구문의 break 키워드 뒤')\n",
    "    except:\n",
    "        print('except 구문 실행됨')\n",
    "    finally:\n",
    "        print('finally 구문이 실행됨')\n",
    "    print('while 반복문의 마지막 줄쓰')\n",
    "print('프로그램 종료')\n"
   ]
  }
 ],
 "metadata": {
  "kernelspec": {
   "display_name": "Python 3",
   "language": "python",
   "name": "python3"
  },
  "language_info": {
   "codemirror_mode": {
    "name": "ipython",
    "version": 3
   },
   "file_extension": ".py",
   "mimetype": "text/x-python",
   "name": "python",
   "nbconvert_exporter": "python",
   "pygments_lexer": "ipython3",
   "version": "3.11.4"
  },
  "orig_nbformat": 4
 },
 "nbformat": 4,
 "nbformat_minor": 2
}
